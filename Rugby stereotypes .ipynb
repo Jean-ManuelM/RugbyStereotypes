{
 "cells": [
  {
   "cell_type": "markdown",
   "metadata": {},
   "source": [
    " # Rugby - Are the stereotypes still true ?"
   ]
  },
  {
   "cell_type": "markdown",
   "metadata": {},
   "source": [
    "by MASSIP Jean-Manuel"
   ]
  },
  {
   "cell_type": "markdown",
   "metadata": {},
   "source": [
    "![capplayer](captainplayer.jpg)"
   ]
  },
  {
   "cell_type": "markdown",
   "metadata": {},
   "source": [
    "## Table of Contents"
   ]
  },
  {
   "cell_type": "markdown",
   "metadata": {},
   "source": [
    "- Introduction\n",
    "- Business Understanding\n",
    "- Data Understanding\n",
    "- Prepare Data\n",
    "- Data Modeling\n",
    "- Evaluate the Results\n",
    "- Conclusions\n"
   ]
  },
  {
   "cell_type": "markdown",
   "metadata": {},
   "source": [
    "## Introduction\n",
    "\n",
    "For this project I choose to analyse a dataset on rugby sport using the CRISP-DM Process.\n",
    "\n",
    "You can find the associated article on the Medium platform here : https://medium.com/@jeanmanuelmassip/truth-or-myths-flanker-best-tackler-in-the-game-3ef09035136e\n",
    "\n",
    "\n",
    "\n",
    "## Business Understanding\n",
    "Historically, we said that \"Everybody can play rugby !\". This game, with this very speficifc static phases allow a lot of different body-shapes to play together.\n",
    "\n",
    "Since the 2000's, Rugby organisations and committees have changed from amateur to professional level. In the same time, the physical aspects of the top players (now call professional players) have also changed : They are stronger, faster, resistant … \n",
    "\n",
    "In the same time, a lot of rules have changed and the effective time of each game have doubled.\n",
    "\n",
    "***In a nutshell :  The game changed.***\n",
    "\n",
    "The trend is to have players strong and fast on every position on the field and each player need to perform in all aspect of the game : Passing, Tackling, reading the play...\n",
    "\n",
    "\n",
    "My will is to test if the \"ideas\" that we have (as rugby fan) in our collective imaginary are still true.\n",
    "\n",
    "\n",
    "### Questions  :  \n",
    "Or it our case : Stereotype to test : \n",
    "\n",
    "On physical aspects :\n",
    "- \"Forward\" players are bigger than than \"Back\" players.\n",
    "- \"Props\" have the biggest BMI (ratio height/weight).\n",
    "- \"Locks\" are taller.\n",
    "\n",
    "On defensive aspects :\n",
    "- \"Forward\" players tackle more than \"Back\" players. \n",
    "- \"Flankers\" are the best tackler in the field. Locks are second\".\n",
    "\n",
    "On offensive aspects :\n",
    "- \"Back\" players score more tries than \"Forward\" players.\n",
    "- \"Wingers\" are the best scorer in the game.\n",
    "\n",
    "On Kicks aspect :\n",
    "- \"Back\" players use more their feet than \"Forward\" players.\n",
    "- \"Fly-half\" is the position where we kick more.\n",
    "\n",
    "\n",
    "\n",
    "### \"Business\" prerequisites  :\n",
    " \n",
    "We can't here (in this Jupyter Notebook) explain what are all the rugby rules and goals of this game.\n",
    "Nevertheless, you can find some explanations to help you to understand in the projet here-after. We also provide some links to learn if you need. Therefore, if you know the Rugby, feel free to skip this part.\n",
    "\n",
    "#### Rugby\n",
    "A sport where players can hold or kick an ovoid ball. The ball cannot be handled forwards and points are scored by touching the ball to the ground in the area past their opponent’s territory or kicking the ball between goalposts and over a crossbar.\n",
    "\n",
    "Rugby is a team sport that requires all 15 players to participate in both offense and defense. Thus, all rugby players must learn the basic skills of catching and passing the ball, running with the ball, tackling, and rucking.\n",
    "\n",
    "For more information, please read https://www.rugbyexplained.com/.\n",
    "\n",
    "\n",
    "#### Rugby Positions\n",
    "![pos](https://whatisrugby.com/wp-content/uploads/2018/11/rugby-positions.jpg)\n",
    "\n",
    "For more information, please read https://whatisrugby.com/rugby-101/rugby-positions/.\n",
    "\n",
    "#### Tackle\n",
    "The best way to stop the ball carrier is to get hold of them and take them to the ground.\n",
    "For more information, please read https://www.rugbyhow.com/rugby-tackle.html, https://rugbydome.com/legal-and-illegal-tackling-in-rugby/.\n",
    "\n",
    "#### Six Nations Rugby competition\n",
    "\n",
    "The Six Nations Rugby competition has been played since 2000 between Ireland, England, Scotland, Wales, France, and Italy. Every team plays each other once. It is the annual International European Cup.\n",
    "For more information, please read https://en.wikipedia.org/wiki/Six_Nations_Championship.\n",
    "    "
   ]
  },
  {
   "cell_type": "markdown",
   "metadata": {},
   "source": [
    "## Data Understanding\n",
    "\n",
    "The dataset used is provided on Kaggle (link in the resources section).\n",
    "It is an Excelfile which contains 12 tables but only one in useful for our investigation, the one with all players statistics. The others are on teams and records.\n",
    "\n",
    "For more convinience, we have extract the players statisitcs table and store it in in a Excelfile named \"players-stats-input.xlsx\".\n",
    "\n",
    "### Import\n",
    "To get started, let's import our libraries :\n"
   ]
  },
  {
   "cell_type": "code",
   "execution_count": 1,
   "metadata": {},
   "outputs": [],
   "source": [
    "# import the necessary libraries\n",
    "import pandas as pd\n",
    "from datetime import datetime, date\n",
    "from dython.nominal import associations\n",
    "import numpy as np\n",
    "import warnings\n",
    "warnings.filterwarnings('ignore')\n",
    "import matplotlib.pyplot as plt\n",
    "%matplotlib inline\n",
    "import seaborn as sns\n",
    "sns.set()"
   ]
  },
  {
   "cell_type": "code",
   "execution_count": 2,
   "metadata": {},
   "outputs": [],
   "source": [
    "# read in the dataset\n",
    "df = pd.read_excel(\"players-stats-input.xlsx\")"
   ]
  },
  {
   "cell_type": "code",
   "execution_count": 3,
   "metadata": {},
   "outputs": [
    {
     "data": {
      "text/html": [
       "<div>\n",
       "<style scoped>\n",
       "    .dataframe tbody tr th:only-of-type {\n",
       "        vertical-align: middle;\n",
       "    }\n",
       "\n",
       "    .dataframe tbody tr th {\n",
       "        vertical-align: top;\n",
       "    }\n",
       "\n",
       "    .dataframe thead th {\n",
       "        text-align: right;\n",
       "    }\n",
       "</style>\n",
       "<table border=\"1\" class=\"dataframe\">\n",
       "  <thead>\n",
       "    <tr style=\"text-align: right;\">\n",
       "      <th></th>\n",
       "      <th>Country</th>\n",
       "      <th>Player</th>\n",
       "      <th>Forward Or Back</th>\n",
       "      <th>Years Active in Six Nations</th>\n",
       "      <th>Years Played in Six Nations</th>\n",
       "      <th>First Year in Six Nations</th>\n",
       "      <th>Most recent Year Six Nations</th>\n",
       "      <th>Six Nations Matches</th>\n",
       "      <th>Six Nations Start</th>\n",
       "      <th>Six Nations Sub</th>\n",
       "      <th>...</th>\n",
       "      <th>2019 Turnovers Won</th>\n",
       "      <th>2019 Turnovers Conceded</th>\n",
       "      <th>2019 Handling Errors</th>\n",
       "      <th>2019 Penalties Conceded</th>\n",
       "      <th>2019 Kicks from hand</th>\n",
       "      <th>2019 Kicks Caught</th>\n",
       "      <th>2019 Successful Lineout Takes</th>\n",
       "      <th>2019 Stolen Lineouts</th>\n",
       "      <th>2019 Yellow Cards</th>\n",
       "      <th>2019 Red Cards</th>\n",
       "    </tr>\n",
       "  </thead>\n",
       "  <tbody>\n",
       "    <tr>\n",
       "      <th>0</th>\n",
       "      <td>France</td>\n",
       "      <td>Dorian Aldegheri</td>\n",
       "      <td>Forward</td>\n",
       "      <td>2019-2019</td>\n",
       "      <td>1.0</td>\n",
       "      <td>2019.0</td>\n",
       "      <td>2019.0</td>\n",
       "      <td>4.0</td>\n",
       "      <td>0.0</td>\n",
       "      <td>4.0</td>\n",
       "      <td>...</td>\n",
       "      <td>0.0</td>\n",
       "      <td>1.0</td>\n",
       "      <td>1.0</td>\n",
       "      <td>4.0</td>\n",
       "      <td>0.0</td>\n",
       "      <td>0.0</td>\n",
       "      <td>0.0</td>\n",
       "      <td>0.0</td>\n",
       "      <td>1.0</td>\n",
       "      <td>0.0</td>\n",
       "    </tr>\n",
       "    <tr>\n",
       "      <th>1</th>\n",
       "      <td>France</td>\n",
       "      <td>Cyril Baille</td>\n",
       "      <td>Forward</td>\n",
       "      <td>2017-2017</td>\n",
       "      <td>1.0</td>\n",
       "      <td>2017.0</td>\n",
       "      <td>2017.0</td>\n",
       "      <td>5.0</td>\n",
       "      <td>5.0</td>\n",
       "      <td>0.0</td>\n",
       "      <td>...</td>\n",
       "      <td>NaN</td>\n",
       "      <td>NaN</td>\n",
       "      <td>NaN</td>\n",
       "      <td>NaN</td>\n",
       "      <td>NaN</td>\n",
       "      <td>NaN</td>\n",
       "      <td>NaN</td>\n",
       "      <td>NaN</td>\n",
       "      <td>NaN</td>\n",
       "      <td>NaN</td>\n",
       "    </tr>\n",
       "    <tr>\n",
       "      <th>2</th>\n",
       "      <td>France</td>\n",
       "      <td>Demba Bamba</td>\n",
       "      <td>Forward</td>\n",
       "      <td>2019-2019</td>\n",
       "      <td>1.0</td>\n",
       "      <td>2019.0</td>\n",
       "      <td>2019.0</td>\n",
       "      <td>5.0</td>\n",
       "      <td>4.0</td>\n",
       "      <td>1.0</td>\n",
       "      <td>...</td>\n",
       "      <td>0.0</td>\n",
       "      <td>5.0</td>\n",
       "      <td>4.0</td>\n",
       "      <td>8.0</td>\n",
       "      <td>0.0</td>\n",
       "      <td>0.0</td>\n",
       "      <td>1.0</td>\n",
       "      <td>0.0</td>\n",
       "      <td>0.0</td>\n",
       "      <td>0.0</td>\n",
       "    </tr>\n",
       "    <tr>\n",
       "      <th>3</th>\n",
       "      <td>France</td>\n",
       "      <td>Camille Chat</td>\n",
       "      <td>Forward</td>\n",
       "      <td>2016-2019</td>\n",
       "      <td>4.0</td>\n",
       "      <td>2016.0</td>\n",
       "      <td>2019.0</td>\n",
       "      <td>9.0</td>\n",
       "      <td>0.0</td>\n",
       "      <td>9.0</td>\n",
       "      <td>...</td>\n",
       "      <td>1.0</td>\n",
       "      <td>0.0</td>\n",
       "      <td>0.0</td>\n",
       "      <td>4.0</td>\n",
       "      <td>0.0</td>\n",
       "      <td>0.0</td>\n",
       "      <td>0.0</td>\n",
       "      <td>0.0</td>\n",
       "      <td>1.0</td>\n",
       "      <td>0.0</td>\n",
       "    </tr>\n",
       "    <tr>\n",
       "      <th>4</th>\n",
       "      <td>France</td>\n",
       "      <td>Anthony Etrillard</td>\n",
       "      <td>Forward</td>\n",
       "      <td>NaN</td>\n",
       "      <td>NaN</td>\n",
       "      <td>NaN</td>\n",
       "      <td>NaN</td>\n",
       "      <td>NaN</td>\n",
       "      <td>NaN</td>\n",
       "      <td>NaN</td>\n",
       "      <td>...</td>\n",
       "      <td>NaN</td>\n",
       "      <td>NaN</td>\n",
       "      <td>NaN</td>\n",
       "      <td>NaN</td>\n",
       "      <td>NaN</td>\n",
       "      <td>NaN</td>\n",
       "      <td>NaN</td>\n",
       "      <td>NaN</td>\n",
       "      <td>NaN</td>\n",
       "      <td>NaN</td>\n",
       "    </tr>\n",
       "  </tbody>\n",
       "</table>\n",
       "<p>5 rows × 70 columns</p>\n",
       "</div>"
      ],
      "text/plain": [
       "  Country             Player Forward Or Back Years Active in Six Nations  \\\n",
       "0  France   Dorian Aldegheri         Forward                   2019-2019   \n",
       "1  France       Cyril Baille         Forward                   2017-2017   \n",
       "2  France        Demba Bamba         Forward                   2019-2019   \n",
       "3  France       Camille Chat         Forward                   2016-2019   \n",
       "4  France  Anthony Etrillard         Forward                         NaN   \n",
       "\n",
       "   Years Played in Six Nations  First Year in Six Nations  \\\n",
       "0                          1.0                     2019.0   \n",
       "1                          1.0                     2017.0   \n",
       "2                          1.0                     2019.0   \n",
       "3                          4.0                     2016.0   \n",
       "4                          NaN                        NaN   \n",
       "\n",
       "   Most recent Year Six Nations  Six Nations Matches  Six Nations Start  \\\n",
       "0                        2019.0                  4.0                0.0   \n",
       "1                        2017.0                  5.0                5.0   \n",
       "2                        2019.0                  5.0                4.0   \n",
       "3                        2019.0                  9.0                0.0   \n",
       "4                           NaN                  NaN                NaN   \n",
       "\n",
       "   Six Nations Sub  ...  2019 Turnovers Won  2019 Turnovers Conceded  \\\n",
       "0              4.0  ...                 0.0                      1.0   \n",
       "1              0.0  ...                 NaN                      NaN   \n",
       "2              1.0  ...                 0.0                      5.0   \n",
       "3              9.0  ...                 1.0                      0.0   \n",
       "4              NaN  ...                 NaN                      NaN   \n",
       "\n",
       "   2019 Handling Errors  2019 Penalties Conceded  2019 Kicks from hand  \\\n",
       "0                   1.0                      4.0                   0.0   \n",
       "1                   NaN                      NaN                   NaN   \n",
       "2                   4.0                      8.0                   0.0   \n",
       "3                   0.0                      4.0                   0.0   \n",
       "4                   NaN                      NaN                   NaN   \n",
       "\n",
       "   2019 Kicks Caught  2019 Successful Lineout Takes  2019 Stolen Lineouts  \\\n",
       "0                0.0                            0.0                   0.0   \n",
       "1                NaN                            NaN                   NaN   \n",
       "2                0.0                            1.0                   0.0   \n",
       "3                0.0                            0.0                   0.0   \n",
       "4                NaN                            NaN                   NaN   \n",
       "\n",
       "   2019 Yellow Cards 2019 Red Cards  \n",
       "0                1.0            0.0  \n",
       "1                NaN            NaN  \n",
       "2                0.0            0.0  \n",
       "3                1.0            0.0  \n",
       "4                NaN            NaN  \n",
       "\n",
       "[5 rows x 70 columns]"
      ]
     },
     "execution_count": 3,
     "metadata": {},
     "output_type": "execute_result"
    }
   ],
   "source": [
    "# check if the import is working\n",
    "df.head()"
   ]
  },
  {
   "cell_type": "code",
   "execution_count": 4,
   "metadata": {},
   "outputs": [
    {
     "data": {
      "text/plain": [
       "(224, 70)"
      ]
     },
     "execution_count": 4,
     "metadata": {},
     "output_type": "execute_result"
    }
   ],
   "source": [
    "#output the shape of the data frame\n",
    "df.shape"
   ]
  },
  {
   "cell_type": "code",
   "execution_count": 5,
   "metadata": {},
   "outputs": [
    {
     "data": {
      "text/plain": [
       "Index(['Country', 'Player', 'Forward Or Back', 'Years Active in Six Nations',\n",
       "       'Years Played in Six Nations', 'First Year in Six Nations',\n",
       "       'Most recent Year Six Nations', 'Six Nations Matches',\n",
       "       'Six Nations Start', 'Six Nations Sub', 'Six Nations Pts',\n",
       "       'Six Nations Tries', 'Six Nations Conv', 'Six Nations Penalties',\n",
       "       'Six Nations Drop', 'Six Nations Won', 'Six Nations Lost',\n",
       "       'Six Nations Draw', '% wins', 'Position Detailed', 'Height In Metres',\n",
       "       'Weight In KG', 'Born', 'Played in Six Nations Before', 'RPI Score',\n",
       "       'Club', 'Influence', 'Attacking', 'Territorial Kick Meters',\n",
       "       'Try Saver', 'Scrum Score', 'Lineout Score', 'Jackal', 'LineOut Take',\n",
       "       'LineOut Steal', 'Tackle Turnover', 'Snaffle', 'Pass Complete', 'Mark',\n",
       "       'Defensive Catch', 'Goal Success', 'Break', '2019 Metres Gained',\n",
       "       '2019 Carries', '2019 Six Nations Metres Per Carry',\n",
       "       '2019 Minutes Played', '2019 Points', '2019 Tries ', '2019 Try assists',\n",
       "       '2019 Conversions', '2019 Penalty Goals', '2019 Drop Goals',\n",
       "       '2019 Defenders Beaten', '2019 Clean Breaks',\n",
       "       '2019 Gain Line Successes', '2019 Interceptions', '2019 Passes Made',\n",
       "       '2019 Off Loads Made', '2019 Tackles Made', '2019 Missed Tackles',\n",
       "       '2019 Turnovers Won', '2019 Turnovers Conceded', '2019 Handling Errors',\n",
       "       '2019 Penalties Conceded', '2019 Kicks from hand', '2019 Kicks Caught',\n",
       "       '2019 Successful Lineout Takes', '2019 Stolen Lineouts',\n",
       "       '2019 Yellow Cards', '2019 Red Cards'],\n",
       "      dtype='object')"
      ]
     },
     "execution_count": 5,
     "metadata": {},
     "output_type": "execute_result"
    }
   ],
   "source": [
    "df.columns"
   ]
  },
  {
   "cell_type": "markdown",
   "metadata": {},
   "source": [
    "## Prepare the Data\n",
    "\n",
    "Hereafter, you can find the list of issues.\n",
    "- Important Number of columns -> Extract the usefull ones.\n",
    "- Rename the columns to be more readable.\n",
    "- Filter only the player who participate to this competition.\n",
    "- Reset the index\n",
    "- Change the player date of birth on player age.\n",
    "- Check if we still have NaN.\n",
    "- Check if each player name is unique.\n",
    "- Check if the dataset look great\n",
    "\n",
    "- Discrete moifications\n",
    "    - Change format\n",
    "    - Change some positions to get a better categorisation.\n",
    "    \n"
   ]
  },
  {
   "cell_type": "markdown",
   "metadata": {},
   "source": [
    "\n",
    "### First and Main issue : The number of columns\n",
    "As we can see above, there is a lot of columns (70) in this dataset. Too much.\n",
    "\n",
    "If we reminder us our questions, our goal is to check if the physical aspect and/or the position on th field impact on the number of tackle that can perform.\n",
    "\n",
    "Therefore we only want to monitored data about the players themself (physical characteristic), them position on the field and some special actions.\n",
    "\n",
    "We have these information for the 2019 tournament only (there is no physical characteristic and tackle for the previous competitions data).\n",
    "\n",
    "The list columns that we want to keep is :\n",
    "\n",
    " - 'Player' : Name and Nickname of the player. It will be our key.\n",
    " - 'Position Detailed': Position on the field. Please read the introduction or the medium article associated if you don't understand what the positions are.\n",
    " - 'Forward Or Back': This is the categorisation of the position on the field.\n",
    "     - Forward = number 1 to 8, players who are in the scrum. \n",
    "     - Back = numbers 9 to 15, players who are placed behing the scrum.\n",
    " - 'Height In Metres' : Height of the player in meter. For \n",
    " - 'Weight In KG': Weight of the player in kilogramme.\n",
    " - 'Born' : Player date of birth\n",
    " - '2019 Minutes Played' : The number of minute played by the ... player.\n",
    " - '2019 Tackles Made': Tackles made by the player during the entire competition (5 games).\n",
    " - '2019 Tries ': Tries scored by the player during the entire competition (5 games).\n",
    " - '2019 Kicks from hand': Kicks made by the player during the entire competition (5 games).\n",
    " - 'Country': Player Country (England, Ireland, Scotcland, Wales, France, Italy). \n",
    "\n",
    "If you are interested in the others 61 columns, hereafter a short description :\n",
    "\n",
    "- Columns D to S : Data about the previous partipations of the player and their teams to the tournament.\n",
    "- Columns AA to AP : Indicators created with the others columns (See Kaggle page for detail).\n",
    "- Columns AQ to the ast one : Data about the performance on the field for the 2019 competition.\n"
   ]
  },
  {
   "cell_type": "code",
   "execution_count": 6,
   "metadata": {},
   "outputs": [
    {
     "data": {
      "text/html": [
       "<div>\n",
       "<style scoped>\n",
       "    .dataframe tbody tr th:only-of-type {\n",
       "        vertical-align: middle;\n",
       "    }\n",
       "\n",
       "    .dataframe tbody tr th {\n",
       "        vertical-align: top;\n",
       "    }\n",
       "\n",
       "    .dataframe thead th {\n",
       "        text-align: right;\n",
       "    }\n",
       "</style>\n",
       "<table border=\"1\" class=\"dataframe\">\n",
       "  <thead>\n",
       "    <tr style=\"text-align: right;\">\n",
       "      <th></th>\n",
       "      <th>Player</th>\n",
       "      <th>Position Detailed</th>\n",
       "      <th>Forward Or Back</th>\n",
       "      <th>Height In Metres</th>\n",
       "      <th>Weight In KG</th>\n",
       "      <th>Born</th>\n",
       "      <th>2019 Minutes Played</th>\n",
       "      <th>2019 Tackles Made</th>\n",
       "      <th>2019 Tries</th>\n",
       "      <th>2019 Kicks from hand</th>\n",
       "      <th>Country</th>\n",
       "    </tr>\n",
       "  </thead>\n",
       "  <tbody>\n",
       "    <tr>\n",
       "      <th>0</th>\n",
       "      <td>Dorian Aldegheri</td>\n",
       "      <td>Prop</td>\n",
       "      <td>Forward</td>\n",
       "      <td>1.80</td>\n",
       "      <td>109.769354</td>\n",
       "      <td>August 4, 1993</td>\n",
       "      <td>56.0</td>\n",
       "      <td>8.0</td>\n",
       "      <td>0.0</td>\n",
       "      <td>0.0</td>\n",
       "      <td>France</td>\n",
       "    </tr>\n",
       "    <tr>\n",
       "      <th>1</th>\n",
       "      <td>Cyril Baille</td>\n",
       "      <td>Prop</td>\n",
       "      <td>Forward</td>\n",
       "      <td>1.83</td>\n",
       "      <td>112.944500</td>\n",
       "      <td>September 15, 1993</td>\n",
       "      <td>NaN</td>\n",
       "      <td>NaN</td>\n",
       "      <td>NaN</td>\n",
       "      <td>NaN</td>\n",
       "      <td>France</td>\n",
       "    </tr>\n",
       "    <tr>\n",
       "      <th>2</th>\n",
       "      <td>Demba Bamba</td>\n",
       "      <td>Prop</td>\n",
       "      <td>Forward</td>\n",
       "      <td>1.85</td>\n",
       "      <td>118.841201</td>\n",
       "      <td>March 17, 1998</td>\n",
       "      <td>303.0</td>\n",
       "      <td>38.0</td>\n",
       "      <td>0.0</td>\n",
       "      <td>0.0</td>\n",
       "      <td>France</td>\n",
       "    </tr>\n",
       "    <tr>\n",
       "      <th>3</th>\n",
       "      <td>Camille Chat</td>\n",
       "      <td>Hooker</td>\n",
       "      <td>Forward</td>\n",
       "      <td>1.83</td>\n",
       "      <td>98.883137</td>\n",
       "      <td>December 18, 1995</td>\n",
       "      <td>82.0</td>\n",
       "      <td>22.0</td>\n",
       "      <td>1.0</td>\n",
       "      <td>0.0</td>\n",
       "      <td>France</td>\n",
       "    </tr>\n",
       "    <tr>\n",
       "      <th>4</th>\n",
       "      <td>Anthony Etrillard</td>\n",
       "      <td>Hooker</td>\n",
       "      <td>Forward</td>\n",
       "      <td>1.80</td>\n",
       "      <td>108.000000</td>\n",
       "      <td>March 21, 1993</td>\n",
       "      <td>NaN</td>\n",
       "      <td>NaN</td>\n",
       "      <td>NaN</td>\n",
       "      <td>NaN</td>\n",
       "      <td>France</td>\n",
       "    </tr>\n",
       "  </tbody>\n",
       "</table>\n",
       "</div>"
      ],
      "text/plain": [
       "              Player Position Detailed Forward Or Back  Height In Metres  \\\n",
       "0   Dorian Aldegheri              Prop         Forward              1.80   \n",
       "1       Cyril Baille              Prop         Forward              1.83   \n",
       "2        Demba Bamba              Prop         Forward              1.85   \n",
       "3       Camille Chat            Hooker         Forward              1.83   \n",
       "4  Anthony Etrillard            Hooker         Forward              1.80   \n",
       "\n",
       "   Weight In KG                 Born  2019 Minutes Played  2019 Tackles Made  \\\n",
       "0    109.769354       August 4, 1993                 56.0                8.0   \n",
       "1    112.944500   September 15, 1993                  NaN                NaN   \n",
       "2    118.841201       March 17, 1998                303.0               38.0   \n",
       "3     98.883137    December 18, 1995                 82.0               22.0   \n",
       "4    108.000000       March 21, 1993                  NaN                NaN   \n",
       "\n",
       "   2019 Tries   2019 Kicks from hand Country  \n",
       "0          0.0                   0.0  France  \n",
       "1          NaN                   NaN  France  \n",
       "2          0.0                   0.0  France  \n",
       "3          1.0                   0.0  France  \n",
       "4          NaN                   NaN  France  "
      ]
     },
     "execution_count": 6,
     "metadata": {},
     "output_type": "execute_result"
    }
   ],
   "source": [
    "df_clean = df[['Player', 'Position Detailed','Forward Or Back', 'Height In Metres', 'Weight In KG', 'Born', '2019 Minutes Played','2019 Tackles Made', '2019 Tries ', '2019 Kicks from hand', 'Country' ]]\n",
    "df_clean.head()"
   ]
  },
  {
   "cell_type": "code",
   "execution_count": 7,
   "metadata": {},
   "outputs": [],
   "source": [
    "#Rename the columns to be more readable.\n",
    "df_clean.columns = ['Player',\n",
    "                    'Position',\n",
    "                    'Forward Or Back', \n",
    "                    'Height In Metres',\n",
    "                    'Weight In kg',\n",
    "                    'Age In Year',\n",
    "                    'Minutes Played',\n",
    "                    'Tackles Made',\n",
    "                    'Tries Made',\n",
    "                    'Kicks from hand made',\n",
    "                    'Country' \n",
    "                   ]"
   ]
  },
  {
   "cell_type": "code",
   "execution_count": 8,
   "metadata": {},
   "outputs": [
    {
     "data": {
      "text/html": [
       "<div>\n",
       "<style scoped>\n",
       "    .dataframe tbody tr th:only-of-type {\n",
       "        vertical-align: middle;\n",
       "    }\n",
       "\n",
       "    .dataframe tbody tr th {\n",
       "        vertical-align: top;\n",
       "    }\n",
       "\n",
       "    .dataframe thead th {\n",
       "        text-align: right;\n",
       "    }\n",
       "</style>\n",
       "<table border=\"1\" class=\"dataframe\">\n",
       "  <thead>\n",
       "    <tr style=\"text-align: right;\">\n",
       "      <th></th>\n",
       "      <th>Player</th>\n",
       "      <th>Position</th>\n",
       "      <th>Forward Or Back</th>\n",
       "      <th>Height In Metres</th>\n",
       "      <th>Weight In kg</th>\n",
       "      <th>Age In Year</th>\n",
       "      <th>Minutes Played</th>\n",
       "      <th>Tackles Made</th>\n",
       "      <th>Tries Made</th>\n",
       "      <th>Kicks from hand made</th>\n",
       "      <th>Country</th>\n",
       "    </tr>\n",
       "  </thead>\n",
       "  <tbody>\n",
       "    <tr>\n",
       "      <th>0</th>\n",
       "      <td>Dorian Aldegheri</td>\n",
       "      <td>Prop</td>\n",
       "      <td>Forward</td>\n",
       "      <td>1.80</td>\n",
       "      <td>109.769354</td>\n",
       "      <td>August 4, 1993</td>\n",
       "      <td>56.0</td>\n",
       "      <td>8.0</td>\n",
       "      <td>0.0</td>\n",
       "      <td>0.0</td>\n",
       "      <td>France</td>\n",
       "    </tr>\n",
       "    <tr>\n",
       "      <th>2</th>\n",
       "      <td>Demba Bamba</td>\n",
       "      <td>Prop</td>\n",
       "      <td>Forward</td>\n",
       "      <td>1.85</td>\n",
       "      <td>118.841201</td>\n",
       "      <td>March 17, 1998</td>\n",
       "      <td>303.0</td>\n",
       "      <td>38.0</td>\n",
       "      <td>0.0</td>\n",
       "      <td>0.0</td>\n",
       "      <td>France</td>\n",
       "    </tr>\n",
       "    <tr>\n",
       "      <th>3</th>\n",
       "      <td>Camille Chat</td>\n",
       "      <td>Hooker</td>\n",
       "      <td>Forward</td>\n",
       "      <td>1.83</td>\n",
       "      <td>98.883137</td>\n",
       "      <td>December 18, 1995</td>\n",
       "      <td>82.0</td>\n",
       "      <td>22.0</td>\n",
       "      <td>1.0</td>\n",
       "      <td>0.0</td>\n",
       "      <td>France</td>\n",
       "    </tr>\n",
       "    <tr>\n",
       "      <th>7</th>\n",
       "      <td>Julien Marchand</td>\n",
       "      <td>Hooker</td>\n",
       "      <td>Forward</td>\n",
       "      <td>1.80</td>\n",
       "      <td>94.800805</td>\n",
       "      <td>May 10, 1995</td>\n",
       "      <td>23.0</td>\n",
       "      <td>2.0</td>\n",
       "      <td>0.0</td>\n",
       "      <td>0.0</td>\n",
       "      <td>France</td>\n",
       "    </tr>\n",
       "    <tr>\n",
       "      <th>8</th>\n",
       "      <td>Jefferson Poirot</td>\n",
       "      <td>Prop</td>\n",
       "      <td>Forward</td>\n",
       "      <td>1.80</td>\n",
       "      <td>99.790321</td>\n",
       "      <td>November 1, 1992</td>\n",
       "      <td>220.0</td>\n",
       "      <td>29.0</td>\n",
       "      <td>0.0</td>\n",
       "      <td>0.0</td>\n",
       "      <td>France</td>\n",
       "    </tr>\n",
       "  </tbody>\n",
       "</table>\n",
       "</div>"
      ],
      "text/plain": [
       "             Player Position Forward Or Back  Height In Metres  Weight In kg  \\\n",
       "0  Dorian Aldegheri     Prop         Forward              1.80    109.769354   \n",
       "2       Demba Bamba     Prop         Forward              1.85    118.841201   \n",
       "3      Camille Chat   Hooker         Forward              1.83     98.883137   \n",
       "7   Julien Marchand   Hooker         Forward              1.80     94.800805   \n",
       "8  Jefferson Poirot     Prop         Forward              1.80     99.790321   \n",
       "\n",
       "         Age In Year  Minutes Played  Tackles Made  Tries Made  \\\n",
       "0     August 4, 1993            56.0           8.0         0.0   \n",
       "2     March 17, 1998           303.0          38.0         0.0   \n",
       "3  December 18, 1995            82.0          22.0         1.0   \n",
       "7       May 10, 1995            23.0           2.0         0.0   \n",
       "8   November 1, 1992           220.0          29.0         0.0   \n",
       "\n",
       "   Kicks from hand made Country  \n",
       "0                   0.0  France  \n",
       "2                   0.0  France  \n",
       "3                   0.0  France  \n",
       "7                   0.0  France  \n",
       "8                   0.0  France  "
      ]
     },
     "execution_count": 8,
     "metadata": {},
     "output_type": "execute_result"
    }
   ],
   "source": [
    "# 2 - Keep only the players with at least 1 minute on the field during the competition\n",
    "df_clean = df_clean.dropna(subset=['Minutes Played'], how='any')\n",
    "df_clean.head()"
   ]
  },
  {
   "cell_type": "code",
   "execution_count": 9,
   "metadata": {},
   "outputs": [
    {
     "data": {
      "text/html": [
       "<div>\n",
       "<style scoped>\n",
       "    .dataframe tbody tr th:only-of-type {\n",
       "        vertical-align: middle;\n",
       "    }\n",
       "\n",
       "    .dataframe tbody tr th {\n",
       "        vertical-align: top;\n",
       "    }\n",
       "\n",
       "    .dataframe thead th {\n",
       "        text-align: right;\n",
       "    }\n",
       "</style>\n",
       "<table border=\"1\" class=\"dataframe\">\n",
       "  <thead>\n",
       "    <tr style=\"text-align: right;\">\n",
       "      <th></th>\n",
       "      <th>Player</th>\n",
       "      <th>Position</th>\n",
       "      <th>Forward Or Back</th>\n",
       "      <th>Height In Metres</th>\n",
       "      <th>Weight In kg</th>\n",
       "      <th>Age In Year</th>\n",
       "      <th>Minutes Played</th>\n",
       "      <th>Tackles Made</th>\n",
       "      <th>Tries Made</th>\n",
       "      <th>Kicks from hand made</th>\n",
       "      <th>Country</th>\n",
       "    </tr>\n",
       "  </thead>\n",
       "  <tbody>\n",
       "    <tr>\n",
       "      <th>0</th>\n",
       "      <td>Dorian Aldegheri</td>\n",
       "      <td>Prop</td>\n",
       "      <td>Forward</td>\n",
       "      <td>1.80</td>\n",
       "      <td>109.769354</td>\n",
       "      <td>August 4, 1993</td>\n",
       "      <td>56.0</td>\n",
       "      <td>8.0</td>\n",
       "      <td>0.0</td>\n",
       "      <td>0.0</td>\n",
       "      <td>France</td>\n",
       "    </tr>\n",
       "    <tr>\n",
       "      <th>1</th>\n",
       "      <td>Demba Bamba</td>\n",
       "      <td>Prop</td>\n",
       "      <td>Forward</td>\n",
       "      <td>1.85</td>\n",
       "      <td>118.841201</td>\n",
       "      <td>March 17, 1998</td>\n",
       "      <td>303.0</td>\n",
       "      <td>38.0</td>\n",
       "      <td>0.0</td>\n",
       "      <td>0.0</td>\n",
       "      <td>France</td>\n",
       "    </tr>\n",
       "    <tr>\n",
       "      <th>2</th>\n",
       "      <td>Camille Chat</td>\n",
       "      <td>Hooker</td>\n",
       "      <td>Forward</td>\n",
       "      <td>1.83</td>\n",
       "      <td>98.883137</td>\n",
       "      <td>December 18, 1995</td>\n",
       "      <td>82.0</td>\n",
       "      <td>22.0</td>\n",
       "      <td>1.0</td>\n",
       "      <td>0.0</td>\n",
       "      <td>France</td>\n",
       "    </tr>\n",
       "    <tr>\n",
       "      <th>3</th>\n",
       "      <td>Julien Marchand</td>\n",
       "      <td>Hooker</td>\n",
       "      <td>Forward</td>\n",
       "      <td>1.80</td>\n",
       "      <td>94.800805</td>\n",
       "      <td>May 10, 1995</td>\n",
       "      <td>23.0</td>\n",
       "      <td>2.0</td>\n",
       "      <td>0.0</td>\n",
       "      <td>0.0</td>\n",
       "      <td>France</td>\n",
       "    </tr>\n",
       "    <tr>\n",
       "      <th>4</th>\n",
       "      <td>Jefferson Poirot</td>\n",
       "      <td>Prop</td>\n",
       "      <td>Forward</td>\n",
       "      <td>1.80</td>\n",
       "      <td>99.790321</td>\n",
       "      <td>November 1, 1992</td>\n",
       "      <td>220.0</td>\n",
       "      <td>29.0</td>\n",
       "      <td>0.0</td>\n",
       "      <td>0.0</td>\n",
       "      <td>France</td>\n",
       "    </tr>\n",
       "  </tbody>\n",
       "</table>\n",
       "</div>"
      ],
      "text/plain": [
       "             Player Position Forward Or Back  Height In Metres  Weight In kg  \\\n",
       "0  Dorian Aldegheri     Prop         Forward              1.80    109.769354   \n",
       "1       Demba Bamba     Prop         Forward              1.85    118.841201   \n",
       "2      Camille Chat   Hooker         Forward              1.83     98.883137   \n",
       "3   Julien Marchand   Hooker         Forward              1.80     94.800805   \n",
       "4  Jefferson Poirot     Prop         Forward              1.80     99.790321   \n",
       "\n",
       "         Age In Year  Minutes Played  Tackles Made  Tries Made  \\\n",
       "0     August 4, 1993            56.0           8.0         0.0   \n",
       "1     March 17, 1998           303.0          38.0         0.0   \n",
       "2  December 18, 1995            82.0          22.0         1.0   \n",
       "3       May 10, 1995            23.0           2.0         0.0   \n",
       "4   November 1, 1992           220.0          29.0         0.0   \n",
       "\n",
       "   Kicks from hand made Country  \n",
       "0                   0.0  France  \n",
       "1                   0.0  France  \n",
       "2                   0.0  France  \n",
       "3                   0.0  France  \n",
       "4                   0.0  France  "
      ]
     },
     "execution_count": 9,
     "metadata": {},
     "output_type": "execute_result"
    }
   ],
   "source": [
    "#Reset the index\n",
    "df_clean.reset_index(level=0, inplace=True, drop = True)\n",
    "df_clean.head()"
   ]
  },
  {
   "cell_type": "code",
   "execution_count": 10,
   "metadata": {},
   "outputs": [],
   "source": [
    "#Transform the column Born (date of Birth) in age.\n",
    "def age(born):\n",
    "        born = datetime.strptime(born, \"%B %d, %Y\").date() \n",
    "        date_competition = datetime(2019, 2, 1)\n",
    "        return date_competition.year - born.year - ((date_competition.month, \n",
    "                                      date_competition.day) < (born.month, \n",
    "                                                    born.day))\n",
    "\n",
    "    \n",
    "\n",
    "\n",
    "df_clean['Age In Year'] = df_clean['Age In Year'].apply(age)\n",
    "\n"
   ]
  },
  {
   "cell_type": "code",
   "execution_count": 11,
   "metadata": {},
   "outputs": [
    {
     "name": "stdout",
     "output_type": "stream",
     "text": [
      "102    35\n",
      "33     33\n",
      "65     33\n",
      "44     32\n",
      "99     32\n",
      "       ..\n",
      "30     21\n",
      "48     21\n",
      "1      20\n",
      "81     20\n",
      "8      19\n",
      "Name: Age In Year, Length: 112, dtype: int64\n"
     ]
    }
   ],
   "source": [
    "#check if the column age is clean\n",
    "print(df_clean['Age In Year'].sort_values(ascending=False))"
   ]
  },
  {
   "cell_type": "code",
   "execution_count": 12,
   "metadata": {},
   "outputs": [
    {
     "data": {
      "text/plain": [
       "Player                  0\n",
       "Position                0\n",
       "Forward Or Back         0\n",
       "Height In Metres        0\n",
       "Weight In kg            0\n",
       "Age In Year             0\n",
       "Minutes Played          0\n",
       "Tackles Made            0\n",
       "Tries Made              0\n",
       "Kicks from hand made    0\n",
       "Country                 0\n",
       "dtype: int64"
      ]
     },
     "execution_count": 12,
     "metadata": {},
     "output_type": "execute_result"
    }
   ],
   "source": [
    "#check if we still have NaN\n",
    "df_clean.isnull().sum()\n"
   ]
  },
  {
   "cell_type": "code",
   "execution_count": 13,
   "metadata": {},
   "outputs": [
    {
     "data": {
      "text/plain": [
       "112"
      ]
     },
     "execution_count": 13,
     "metadata": {},
     "output_type": "execute_result"
    }
   ],
   "source": [
    "#Check if each player name is unique\n",
    "df_clean['Player'].unique().size"
   ]
  },
  {
   "cell_type": "code",
   "execution_count": 14,
   "metadata": {},
   "outputs": [
    {
     "data": {
      "text/html": [
       "<div>\n",
       "<style scoped>\n",
       "    .dataframe tbody tr th:only-of-type {\n",
       "        vertical-align: middle;\n",
       "    }\n",
       "\n",
       "    .dataframe tbody tr th {\n",
       "        vertical-align: top;\n",
       "    }\n",
       "\n",
       "    .dataframe thead th {\n",
       "        text-align: right;\n",
       "    }\n",
       "</style>\n",
       "<table border=\"1\" class=\"dataframe\">\n",
       "  <thead>\n",
       "    <tr style=\"text-align: right;\">\n",
       "      <th></th>\n",
       "      <th>Height In Metres</th>\n",
       "      <th>Weight In kg</th>\n",
       "      <th>Age In Year</th>\n",
       "      <th>Minutes Played</th>\n",
       "      <th>Tackles Made</th>\n",
       "      <th>Tries Made</th>\n",
       "      <th>Kicks from hand made</th>\n",
       "    </tr>\n",
       "  </thead>\n",
       "  <tbody>\n",
       "    <tr>\n",
       "      <th>count</th>\n",
       "      <td>112.000000</td>\n",
       "      <td>112.000000</td>\n",
       "      <td>112.000000</td>\n",
       "      <td>112.000000</td>\n",
       "      <td>112.000000</td>\n",
       "      <td>112.000000</td>\n",
       "      <td>112.000000</td>\n",
       "    </tr>\n",
       "    <tr>\n",
       "      <th>mean</th>\n",
       "      <td>1.873393</td>\n",
       "      <td>103.003791</td>\n",
       "      <td>26.089286</td>\n",
       "      <td>210.366071</td>\n",
       "      <td>27.508929</td>\n",
       "      <td>0.562500</td>\n",
       "      <td>5.116071</td>\n",
       "    </tr>\n",
       "    <tr>\n",
       "      <th>std</th>\n",
       "      <td>0.072901</td>\n",
       "      <td>13.256081</td>\n",
       "      <td>3.132375</td>\n",
       "      <td>118.227677</td>\n",
       "      <td>20.544391</td>\n",
       "      <td>0.965917</td>\n",
       "      <td>11.360391</td>\n",
       "    </tr>\n",
       "    <tr>\n",
       "      <th>min</th>\n",
       "      <td>1.750000</td>\n",
       "      <td>75.749926</td>\n",
       "      <td>19.000000</td>\n",
       "      <td>2.000000</td>\n",
       "      <td>0.000000</td>\n",
       "      <td>0.000000</td>\n",
       "      <td>0.000000</td>\n",
       "    </tr>\n",
       "    <tr>\n",
       "      <th>25%</th>\n",
       "      <td>1.830000</td>\n",
       "      <td>91.906415</td>\n",
       "      <td>24.000000</td>\n",
       "      <td>102.750000</td>\n",
       "      <td>11.000000</td>\n",
       "      <td>0.000000</td>\n",
       "      <td>0.000000</td>\n",
       "    </tr>\n",
       "    <tr>\n",
       "      <th>50%</th>\n",
       "      <td>1.850000</td>\n",
       "      <td>104.779837</td>\n",
       "      <td>26.000000</td>\n",
       "      <td>215.500000</td>\n",
       "      <td>23.500000</td>\n",
       "      <td>0.000000</td>\n",
       "      <td>0.000000</td>\n",
       "    </tr>\n",
       "    <tr>\n",
       "      <th>75%</th>\n",
       "      <td>1.910000</td>\n",
       "      <td>113.212921</td>\n",
       "      <td>28.000000</td>\n",
       "      <td>314.250000</td>\n",
       "      <td>39.000000</td>\n",
       "      <td>1.000000</td>\n",
       "      <td>4.250000</td>\n",
       "    </tr>\n",
       "    <tr>\n",
       "      <th>max</th>\n",
       "      <td>2.110000</td>\n",
       "      <td>132.000000</td>\n",
       "      <td>35.000000</td>\n",
       "      <td>400.000000</td>\n",
       "      <td>86.000000</td>\n",
       "      <td>6.000000</td>\n",
       "      <td>70.000000</td>\n",
       "    </tr>\n",
       "  </tbody>\n",
       "</table>\n",
       "</div>"
      ],
      "text/plain": [
       "       Height In Metres  Weight In kg  Age In Year  Minutes Played  \\\n",
       "count        112.000000    112.000000   112.000000      112.000000   \n",
       "mean           1.873393    103.003791    26.089286      210.366071   \n",
       "std            0.072901     13.256081     3.132375      118.227677   \n",
       "min            1.750000     75.749926    19.000000        2.000000   \n",
       "25%            1.830000     91.906415    24.000000      102.750000   \n",
       "50%            1.850000    104.779837    26.000000      215.500000   \n",
       "75%            1.910000    113.212921    28.000000      314.250000   \n",
       "max            2.110000    132.000000    35.000000      400.000000   \n",
       "\n",
       "       Tackles Made  Tries Made  Kicks from hand made  \n",
       "count    112.000000  112.000000            112.000000  \n",
       "mean      27.508929    0.562500              5.116071  \n",
       "std       20.544391    0.965917             11.360391  \n",
       "min        0.000000    0.000000              0.000000  \n",
       "25%       11.000000    0.000000              0.000000  \n",
       "50%       23.500000    0.000000              0.000000  \n",
       "75%       39.000000    1.000000              4.250000  \n",
       "max       86.000000    6.000000             70.000000  "
      ]
     },
     "execution_count": 14,
     "metadata": {},
     "output_type": "execute_result"
    }
   ],
   "source": [
    "# Take a look on our dataset\n",
    "df_clean.describe()"
   ]
  },
  {
   "cell_type": "markdown",
   "metadata": {},
   "source": [
    "Comments : \n",
    "- No more NaN value.\n",
    "- The height and the weight look right for professional rugby players (not for casual people). The average player is 1,87 m for 103 kg (6,14 ft for 227 lb for my american friend).\n",
    "- One rugby game has a duration of 80 min. The max is correct because if a player played all the matchs : 5 * 80 = 400 min.\n",
    "- Don't forget that the tackle made is counter for all the minutes played in the competition (5 games). It is not a number of tackle per match."
   ]
  },
  {
   "cell_type": "code",
   "execution_count": 15,
   "metadata": {},
   "outputs": [
    {
     "data": {
      "text/plain": [
       "Player                   object\n",
       "Position                 object\n",
       "Forward Or Back          object\n",
       "Height In Metres        float64\n",
       "Weight In kg            float64\n",
       "Age In Year               int64\n",
       "Minutes Played          float64\n",
       "Tackles Made            float64\n",
       "Tries Made              float64\n",
       "Kicks from hand made    float64\n",
       "Country                  object\n",
       "dtype: object"
      ]
     },
     "metadata": {},
     "output_type": "display_data"
    }
   ],
   "source": [
    "display(df_clean.dtypes)"
   ]
  },
  {
   "cell_type": "code",
   "execution_count": 16,
   "metadata": {},
   "outputs": [],
   "source": [
    "#modify format for minute played\n",
    "df_clean['Minutes Played'] = df_clean['Minutes Played'].astype(int)"
   ]
  },
  {
   "cell_type": "code",
   "execution_count": 17,
   "metadata": {},
   "outputs": [
    {
     "data": {
      "text/plain": [
       "Position\n",
       "Prop                20\n",
       "Lock                18\n",
       "Centre              12\n",
       "Back-row            11\n",
       "Wing                 9\n",
       "Scrum-half           9\n",
       "Hooker               9\n",
       "Fly-half             8\n",
       "Fullback             5\n",
       "Fullback, Wing       3\n",
       "Flanker              3\n",
       "Utility back         1\n",
       "Utility Back         1\n",
       "Position             1\n",
       "Lock, Back-row       1\n",
       "Fullback, Centre     1\n",
       "Name: Player, dtype: int64"
      ]
     },
     "execution_count": 17,
     "metadata": {},
     "output_type": "execute_result"
    }
   ],
   "source": [
    "#change some positions to get a better categorisation\n",
    "df_clean.groupby(['Position']).count()['Player'].sort_values(ascending = False)"
   ]
  },
  {
   "cell_type": "markdown",
   "metadata": {},
   "source": [
    "We have several issue here :\n",
    "- For the players where there is two positions allocated, we will keep only the first one.\n",
    "\n",
    "\n",
    "- There is only 3 flankers listed here but each team have at least 2 flankers by definition(player number 6 & 7). It is because today, flanckers can often play also number 8 (close position to flancker) to help the team to be more flexible. Therefore the majority of the number 6, 7 and 8 are named as \"Back-Row\" in the dataset. We will change the \"flankers\" to Back-Row also to ensures consistency.\n",
    "\n",
    "\n",
    "- One player has a position named \"position\". This is cleary an error. We need to investigate by ourself to change this error. We will check on internet where this player play.\n",
    "\n",
    "\n",
    "- There is 2 players identified as \"Utility back\" & \"Utility Back\".  \"Utility back\" means that the player can play on several position on the back line. However, as we have already only 112 lines, we will not drop them but we will also find their positions on internet."
   ]
  },
  {
   "cell_type": "code",
   "execution_count": 18,
   "metadata": {},
   "outputs": [
    {
     "data": {
      "text/html": [
       "<div>\n",
       "<style scoped>\n",
       "    .dataframe tbody tr th:only-of-type {\n",
       "        vertical-align: middle;\n",
       "    }\n",
       "\n",
       "    .dataframe tbody tr th {\n",
       "        vertical-align: top;\n",
       "    }\n",
       "\n",
       "    .dataframe thead th {\n",
       "        text-align: right;\n",
       "    }\n",
       "</style>\n",
       "<table border=\"1\" class=\"dataframe\">\n",
       "  <thead>\n",
       "    <tr style=\"text-align: right;\">\n",
       "      <th></th>\n",
       "      <th>Player</th>\n",
       "      <th>Position</th>\n",
       "      <th>Forward Or Back</th>\n",
       "      <th>Height In Metres</th>\n",
       "      <th>Weight In kg</th>\n",
       "      <th>Age In Year</th>\n",
       "      <th>Minutes Played</th>\n",
       "      <th>Tackles Made</th>\n",
       "      <th>Tries Made</th>\n",
       "      <th>Kicks from hand made</th>\n",
       "      <th>Country</th>\n",
       "    </tr>\n",
       "  </thead>\n",
       "  <tbody>\n",
       "    <tr>\n",
       "      <th>29</th>\n",
       "      <td>Robbie Henshaw</td>\n",
       "      <td>Fullback, Centre</td>\n",
       "      <td>Back</td>\n",
       "      <td>1.93</td>\n",
       "      <td>104.779837</td>\n",
       "      <td>25</td>\n",
       "      <td>80</td>\n",
       "      <td>3.0</td>\n",
       "      <td>0.0</td>\n",
       "      <td>2.0</td>\n",
       "      <td>Ireland</td>\n",
       "    </tr>\n",
       "  </tbody>\n",
       "</table>\n",
       "</div>"
      ],
      "text/plain": [
       "            Player          Position Forward Or Back  Height In Metres  \\\n",
       "29  Robbie Henshaw  Fullback, Centre            Back              1.93   \n",
       "\n",
       "    Weight In kg  Age In Year  Minutes Played  Tackles Made  Tries Made  \\\n",
       "29    104.779837           25              80           3.0         0.0   \n",
       "\n",
       "    Kicks from hand made  Country  \n",
       "29                   2.0  Ireland  "
      ]
     },
     "execution_count": 18,
     "metadata": {},
     "output_type": "execute_result"
    }
   ],
   "source": [
    "#For the players where there is two positions allocated, we will keep only the first one.\n",
    "df_clean[ df_clean['Position'] == 'Fullback, Centre']\n"
   ]
  },
  {
   "cell_type": "code",
   "execution_count": 19,
   "metadata": {},
   "outputs": [
    {
     "data": {
      "text/html": [
       "<div>\n",
       "<style scoped>\n",
       "    .dataframe tbody tr th:only-of-type {\n",
       "        vertical-align: middle;\n",
       "    }\n",
       "\n",
       "    .dataframe tbody tr th {\n",
       "        vertical-align: top;\n",
       "    }\n",
       "\n",
       "    .dataframe thead th {\n",
       "        text-align: right;\n",
       "    }\n",
       "</style>\n",
       "<table border=\"1\" class=\"dataframe\">\n",
       "  <thead>\n",
       "    <tr style=\"text-align: right;\">\n",
       "      <th></th>\n",
       "      <th>Player</th>\n",
       "      <th>Position</th>\n",
       "      <th>Forward Or Back</th>\n",
       "      <th>Height In Metres</th>\n",
       "      <th>Weight In kg</th>\n",
       "      <th>Age In Year</th>\n",
       "      <th>Minutes Played</th>\n",
       "      <th>Tackles Made</th>\n",
       "      <th>Tries Made</th>\n",
       "      <th>Kicks from hand made</th>\n",
       "      <th>Country</th>\n",
       "    </tr>\n",
       "  </thead>\n",
       "  <tbody>\n",
       "    <tr>\n",
       "      <th>25</th>\n",
       "      <td>Andrew Conway</td>\n",
       "      <td>Fullback, Wing</td>\n",
       "      <td>Back</td>\n",
       "      <td>1.80</td>\n",
       "      <td>89.811289</td>\n",
       "      <td>27</td>\n",
       "      <td>74</td>\n",
       "      <td>3.0</td>\n",
       "      <td>0.0</td>\n",
       "      <td>0.0</td>\n",
       "      <td>Ireland</td>\n",
       "    </tr>\n",
       "    <tr>\n",
       "      <th>77</th>\n",
       "      <td>Josh Adams</td>\n",
       "      <td>Fullback, Wing</td>\n",
       "      <td>Back</td>\n",
       "      <td>1.88</td>\n",
       "      <td>93.893621</td>\n",
       "      <td>23</td>\n",
       "      <td>400</td>\n",
       "      <td>12.0</td>\n",
       "      <td>3.0</td>\n",
       "      <td>10.0</td>\n",
       "      <td>Wales</td>\n",
       "    </tr>\n",
       "    <tr>\n",
       "      <th>79</th>\n",
       "      <td>Liam Williams</td>\n",
       "      <td>Fullback, Wing</td>\n",
       "      <td>Back</td>\n",
       "      <td>1.88</td>\n",
       "      <td>84.821773</td>\n",
       "      <td>27</td>\n",
       "      <td>339</td>\n",
       "      <td>7.0</td>\n",
       "      <td>0.0</td>\n",
       "      <td>9.0</td>\n",
       "      <td>Wales</td>\n",
       "    </tr>\n",
       "  </tbody>\n",
       "</table>\n",
       "</div>"
      ],
      "text/plain": [
       "           Player        Position Forward Or Back  Height In Metres  \\\n",
       "25  Andrew Conway  Fullback, Wing            Back              1.80   \n",
       "77     Josh Adams  Fullback, Wing            Back              1.88   \n",
       "79  Liam Williams  Fullback, Wing            Back              1.88   \n",
       "\n",
       "    Weight In kg  Age In Year  Minutes Played  Tackles Made  Tries Made  \\\n",
       "25     89.811289           27              74           3.0         0.0   \n",
       "77     93.893621           23             400          12.0         3.0   \n",
       "79     84.821773           27             339           7.0         0.0   \n",
       "\n",
       "    Kicks from hand made  Country  \n",
       "25                   0.0  Ireland  \n",
       "77                  10.0    Wales  \n",
       "79                   9.0    Wales  "
      ]
     },
     "execution_count": 19,
     "metadata": {},
     "output_type": "execute_result"
    }
   ],
   "source": [
    "df_clean[ df_clean['Position'] == 'Fullback, Wing']"
   ]
  },
  {
   "cell_type": "code",
   "execution_count": 20,
   "metadata": {},
   "outputs": [
    {
     "data": {
      "text/html": [
       "<div>\n",
       "<style scoped>\n",
       "    .dataframe tbody tr th:only-of-type {\n",
       "        vertical-align: middle;\n",
       "    }\n",
       "\n",
       "    .dataframe tbody tr th {\n",
       "        vertical-align: top;\n",
       "    }\n",
       "\n",
       "    .dataframe thead th {\n",
       "        text-align: right;\n",
       "    }\n",
       "</style>\n",
       "<table border=\"1\" class=\"dataframe\">\n",
       "  <thead>\n",
       "    <tr style=\"text-align: right;\">\n",
       "      <th></th>\n",
       "      <th>Player</th>\n",
       "      <th>Position</th>\n",
       "      <th>Forward Or Back</th>\n",
       "      <th>Height In Metres</th>\n",
       "      <th>Weight In kg</th>\n",
       "      <th>Age In Year</th>\n",
       "      <th>Minutes Played</th>\n",
       "      <th>Tackles Made</th>\n",
       "      <th>Tries Made</th>\n",
       "      <th>Kicks from hand made</th>\n",
       "      <th>Country</th>\n",
       "    </tr>\n",
       "  </thead>\n",
       "  <tbody>\n",
       "    <tr>\n",
       "      <th>84</th>\n",
       "      <td>Maro Itoje</td>\n",
       "      <td>Lock, Back-row</td>\n",
       "      <td>Forward</td>\n",
       "      <td>1.98</td>\n",
       "      <td>110.0</td>\n",
       "      <td>24</td>\n",
       "      <td>53</td>\n",
       "      <td>10.0</td>\n",
       "      <td>0.0</td>\n",
       "      <td>0.0</td>\n",
       "      <td>England</td>\n",
       "    </tr>\n",
       "  </tbody>\n",
       "</table>\n",
       "</div>"
      ],
      "text/plain": [
       "        Player        Position Forward Or Back  Height In Metres  \\\n",
       "84  Maro Itoje  Lock, Back-row         Forward              1.98   \n",
       "\n",
       "    Weight In kg  Age In Year  Minutes Played  Tackles Made  Tries Made  \\\n",
       "84         110.0           24              53          10.0         0.0   \n",
       "\n",
       "    Kicks from hand made   Country  \n",
       "84                   0.0  England   "
      ]
     },
     "execution_count": 20,
     "metadata": {},
     "output_type": "execute_result"
    }
   ],
   "source": [
    "df_clean[ df_clean['Position'] == 'Lock, Back-row'] "
   ]
  },
  {
   "cell_type": "code",
   "execution_count": 21,
   "metadata": {},
   "outputs": [],
   "source": [
    "df_clean.at[25, 'Position'] = 'Fullback'\n",
    "df_clean.at[29, 'Position'] = 'Fullback'\n",
    "df_clean.at[77, 'Position'] = 'Fullback'\n",
    "df_clean.at[79, 'Position'] = 'Fullback'\n",
    "df_clean.at[84, 'Position'] = 'Lock'\n",
    "\n"
   ]
  },
  {
   "cell_type": "code",
   "execution_count": 22,
   "metadata": {},
   "outputs": [
    {
     "data": {
      "text/html": [
       "<div>\n",
       "<style scoped>\n",
       "    .dataframe tbody tr th:only-of-type {\n",
       "        vertical-align: middle;\n",
       "    }\n",
       "\n",
       "    .dataframe tbody tr th {\n",
       "        vertical-align: top;\n",
       "    }\n",
       "\n",
       "    .dataframe thead th {\n",
       "        text-align: right;\n",
       "    }\n",
       "</style>\n",
       "<table border=\"1\" class=\"dataframe\">\n",
       "  <thead>\n",
       "    <tr style=\"text-align: right;\">\n",
       "      <th></th>\n",
       "      <th>Player</th>\n",
       "      <th>Position</th>\n",
       "      <th>Forward Or Back</th>\n",
       "      <th>Height In Metres</th>\n",
       "      <th>Weight In kg</th>\n",
       "      <th>Age In Year</th>\n",
       "      <th>Minutes Played</th>\n",
       "      <th>Tackles Made</th>\n",
       "      <th>Tries Made</th>\n",
       "      <th>Kicks from hand made</th>\n",
       "      <th>Country</th>\n",
       "    </tr>\n",
       "  </thead>\n",
       "  <tbody>\n",
       "    <tr>\n",
       "      <th>23</th>\n",
       "      <td>Josh van der Flier</td>\n",
       "      <td>Flanker</td>\n",
       "      <td>Forward</td>\n",
       "      <td>1.80</td>\n",
       "      <td>106.594207</td>\n",
       "      <td>25</td>\n",
       "      <td>143</td>\n",
       "      <td>26.0</td>\n",
       "      <td>0.0</td>\n",
       "      <td>0.0</td>\n",
       "      <td>Ireland</td>\n",
       "    </tr>\n",
       "    <tr>\n",
       "      <th>69</th>\n",
       "      <td>Josh Navidi</td>\n",
       "      <td>Flanker</td>\n",
       "      <td>Forward</td>\n",
       "      <td>1.85</td>\n",
       "      <td>94.800805</td>\n",
       "      <td>28</td>\n",
       "      <td>383</td>\n",
       "      <td>83.0</td>\n",
       "      <td>0.0</td>\n",
       "      <td>0.0</td>\n",
       "      <td>Wales</td>\n",
       "    </tr>\n",
       "    <tr>\n",
       "      <th>81</th>\n",
       "      <td>Tom Curry</td>\n",
       "      <td>Flanker</td>\n",
       "      <td>Forward</td>\n",
       "      <td>1.85</td>\n",
       "      <td>110.000000</td>\n",
       "      <td>20</td>\n",
       "      <td>361</td>\n",
       "      <td>86.0</td>\n",
       "      <td>2.0</td>\n",
       "      <td>0.0</td>\n",
       "      <td>England</td>\n",
       "    </tr>\n",
       "  </tbody>\n",
       "</table>\n",
       "</div>"
      ],
      "text/plain": [
       "                Player Position Forward Or Back  Height In Metres  \\\n",
       "23  Josh van der Flier  Flanker         Forward              1.80   \n",
       "69         Josh Navidi  Flanker         Forward              1.85   \n",
       "81           Tom Curry  Flanker         Forward              1.85   \n",
       "\n",
       "    Weight In kg  Age In Year  Minutes Played  Tackles Made  Tries Made  \\\n",
       "23    106.594207           25             143          26.0         0.0   \n",
       "69     94.800805           28             383          83.0         0.0   \n",
       "81    110.000000           20             361          86.0         2.0   \n",
       "\n",
       "    Kicks from hand made   Country  \n",
       "23                   0.0   Ireland  \n",
       "69                   0.0     Wales  \n",
       "81                   0.0  England   "
      ]
     },
     "execution_count": 22,
     "metadata": {},
     "output_type": "execute_result"
    }
   ],
   "source": [
    "#We will change the \"flankers\" to Back-Row also to ensures consistency.\n",
    "df_clean[ df_clean['Position'] == 'Flanker'] "
   ]
  },
  {
   "cell_type": "code",
   "execution_count": 23,
   "metadata": {},
   "outputs": [],
   "source": [
    "df_clean.at[23, 'Position'] = 'Back-row'\n",
    "df_clean.at[69, 'Position'] = 'Back-row'\n",
    "df_clean.at[81, 'Position'] = 'Back-row'"
   ]
  },
  {
   "cell_type": "code",
   "execution_count": 24,
   "metadata": {},
   "outputs": [
    {
     "data": {
      "text/html": [
       "<div>\n",
       "<style scoped>\n",
       "    .dataframe tbody tr th:only-of-type {\n",
       "        vertical-align: middle;\n",
       "    }\n",
       "\n",
       "    .dataframe tbody tr th {\n",
       "        vertical-align: top;\n",
       "    }\n",
       "\n",
       "    .dataframe thead th {\n",
       "        text-align: right;\n",
       "    }\n",
       "</style>\n",
       "<table border=\"1\" class=\"dataframe\">\n",
       "  <thead>\n",
       "    <tr style=\"text-align: right;\">\n",
       "      <th></th>\n",
       "      <th>Player</th>\n",
       "      <th>Position</th>\n",
       "      <th>Forward Or Back</th>\n",
       "      <th>Height In Metres</th>\n",
       "      <th>Weight In kg</th>\n",
       "      <th>Age In Year</th>\n",
       "      <th>Minutes Played</th>\n",
       "      <th>Tackles Made</th>\n",
       "      <th>Tries Made</th>\n",
       "      <th>Kicks from hand made</th>\n",
       "      <th>Country</th>\n",
       "    </tr>\n",
       "  </thead>\n",
       "  <tbody>\n",
       "    <tr>\n",
       "      <th>12</th>\n",
       "      <td>Ultan Dillane</td>\n",
       "      <td>Position</td>\n",
       "      <td>Forward</td>\n",
       "      <td>1.98</td>\n",
       "      <td>114.75887</td>\n",
       "      <td>25</td>\n",
       "      <td>109</td>\n",
       "      <td>21.0</td>\n",
       "      <td>0.0</td>\n",
       "      <td>0.0</td>\n",
       "      <td>Ireland</td>\n",
       "    </tr>\n",
       "  </tbody>\n",
       "</table>\n",
       "</div>"
      ],
      "text/plain": [
       "           Player  Position Forward Or Back  Height In Metres  Weight In kg  \\\n",
       "12  Ultan Dillane  Position         Forward              1.98     114.75887   \n",
       "\n",
       "    Age In Year  Minutes Played  Tackles Made  Tries Made  \\\n",
       "12           25             109          21.0         0.0   \n",
       "\n",
       "    Kicks from hand made  Country  \n",
       "12                   0.0  Ireland  "
      ]
     },
     "execution_count": 24,
     "metadata": {},
     "output_type": "execute_result"
    }
   ],
   "source": [
    "#One player has a position named \"position\". This is cleary an error. We need to investigate by ourself to change this error. We will check on internet where this player play.\n",
    "df_clean[ df_clean['Position'] == 'Position'] "
   ]
  },
  {
   "cell_type": "code",
   "execution_count": 25,
   "metadata": {},
   "outputs": [],
   "source": [
    "# https://en.wikipedia.org/wiki/Ultan_Dillane\n",
    "df_clean.at[12, 'Position'] = 'Lock'"
   ]
  },
  {
   "cell_type": "code",
   "execution_count": 26,
   "metadata": {},
   "outputs": [
    {
     "data": {
      "text/html": [
       "<div>\n",
       "<style scoped>\n",
       "    .dataframe tbody tr th:only-of-type {\n",
       "        vertical-align: middle;\n",
       "    }\n",
       "\n",
       "    .dataframe tbody tr th {\n",
       "        vertical-align: top;\n",
       "    }\n",
       "\n",
       "    .dataframe thead th {\n",
       "        text-align: right;\n",
       "    }\n",
       "</style>\n",
       "<table border=\"1\" class=\"dataframe\">\n",
       "  <thead>\n",
       "    <tr style=\"text-align: right;\">\n",
       "      <th></th>\n",
       "      <th>Player</th>\n",
       "      <th>Position</th>\n",
       "      <th>Forward Or Back</th>\n",
       "      <th>Height In Metres</th>\n",
       "      <th>Weight In kg</th>\n",
       "      <th>Age In Year</th>\n",
       "      <th>Minutes Played</th>\n",
       "      <th>Tackles Made</th>\n",
       "      <th>Tries Made</th>\n",
       "      <th>Kicks from hand made</th>\n",
       "      <th>Country</th>\n",
       "    </tr>\n",
       "  </thead>\n",
       "  <tbody>\n",
       "    <tr>\n",
       "      <th>91</th>\n",
       "      <td>Elliot Daly</td>\n",
       "      <td>Utility Back</td>\n",
       "      <td>Back</td>\n",
       "      <td>1.84</td>\n",
       "      <td>92.0</td>\n",
       "      <td>26</td>\n",
       "      <td>400</td>\n",
       "      <td>7.0</td>\n",
       "      <td>1.0</td>\n",
       "      <td>18.0</td>\n",
       "      <td>England</td>\n",
       "    </tr>\n",
       "  </tbody>\n",
       "</table>\n",
       "</div>"
      ],
      "text/plain": [
       "         Player      Position Forward Or Back  Height In Metres  Weight In kg  \\\n",
       "91  Elliot Daly  Utility Back            Back              1.84          92.0   \n",
       "\n",
       "    Age In Year  Minutes Played  Tackles Made  Tries Made  \\\n",
       "91           26             400           7.0         1.0   \n",
       "\n",
       "    Kicks from hand made   Country  \n",
       "91                  18.0  England   "
      ]
     },
     "execution_count": 26,
     "metadata": {},
     "output_type": "execute_result"
    }
   ],
   "source": [
    "# we will not drop them but we will also find their positions on internet.\n",
    "df_clean[ df_clean['Position'] == 'Utility Back']\n"
   ]
  },
  {
   "cell_type": "code",
   "execution_count": 27,
   "metadata": {},
   "outputs": [
    {
     "data": {
      "text/html": [
       "<div>\n",
       "<style scoped>\n",
       "    .dataframe tbody tr th:only-of-type {\n",
       "        vertical-align: middle;\n",
       "    }\n",
       "\n",
       "    .dataframe tbody tr th {\n",
       "        vertical-align: top;\n",
       "    }\n",
       "\n",
       "    .dataframe thead th {\n",
       "        text-align: right;\n",
       "    }\n",
       "</style>\n",
       "<table border=\"1\" class=\"dataframe\">\n",
       "  <thead>\n",
       "    <tr style=\"text-align: right;\">\n",
       "      <th></th>\n",
       "      <th>Player</th>\n",
       "      <th>Position</th>\n",
       "      <th>Forward Or Back</th>\n",
       "      <th>Height In Metres</th>\n",
       "      <th>Weight In kg</th>\n",
       "      <th>Age In Year</th>\n",
       "      <th>Minutes Played</th>\n",
       "      <th>Tackles Made</th>\n",
       "      <th>Tries Made</th>\n",
       "      <th>Kicks from hand made</th>\n",
       "      <th>Country</th>\n",
       "    </tr>\n",
       "  </thead>\n",
       "  <tbody>\n",
       "    <tr>\n",
       "      <th>27</th>\n",
       "      <td>Keith Earls</td>\n",
       "      <td>Utility back</td>\n",
       "      <td>Back</td>\n",
       "      <td>1.78</td>\n",
       "      <td>86.636143</td>\n",
       "      <td>31</td>\n",
       "      <td>355</td>\n",
       "      <td>18.0</td>\n",
       "      <td>3.0</td>\n",
       "      <td>7.0</td>\n",
       "      <td>Ireland</td>\n",
       "    </tr>\n",
       "  </tbody>\n",
       "</table>\n",
       "</div>"
      ],
      "text/plain": [
       "         Player      Position Forward Or Back  Height In Metres  Weight In kg  \\\n",
       "27  Keith Earls  Utility back            Back              1.78     86.636143   \n",
       "\n",
       "    Age In Year  Minutes Played  Tackles Made  Tries Made  \\\n",
       "27           31             355          18.0         3.0   \n",
       "\n",
       "    Kicks from hand made  Country  \n",
       "27                   7.0  Ireland  "
      ]
     },
     "execution_count": 27,
     "metadata": {},
     "output_type": "execute_result"
    }
   ],
   "source": [
    "df_clean[ df_clean['Position'] == 'Utility back'] "
   ]
  },
  {
   "cell_type": "code",
   "execution_count": 28,
   "metadata": {},
   "outputs": [],
   "source": [
    "#https://en.wikipedia.org/wiki/Elliot_Daly\n",
    "#https://en.wikipedia.org/wiki/Keith_Earls\n",
    "\n",
    "df_clean.at[91, 'Position'] = 'Wing'\n",
    "df_clean.at[27, 'Position'] = 'Wing'"
   ]
  },
  {
   "cell_type": "code",
   "execution_count": 29,
   "metadata": {},
   "outputs": [
    {
     "data": {
      "text/plain": [
       "Position\n",
       "Back-row      14\n",
       "Centre        12\n",
       "Fly-half       8\n",
       "Fullback       9\n",
       "Hooker         9\n",
       "Lock          20\n",
       "Prop          20\n",
       "Scrum-half     9\n",
       "Wing          11\n",
       "Name: Player, dtype: int64"
      ]
     },
     "execution_count": 29,
     "metadata": {},
     "output_type": "execute_result"
    }
   ],
   "source": [
    "df_clean.groupby(['Position']).count()['Player'] #This is much better."
   ]
  },
  {
   "cell_type": "markdown",
   "metadata": {},
   "source": [
    "## Data Modeling\n",
    "\n",
    "### Feature Engineering\n",
    "\n",
    "\n",
    "#### Create a column : Tackles per minutes.\n",
    "As said before the column \"Tackles Made\" is take into account the number of tackle for the full competition (5 games).\n",
    "But we can't say that a player who made 20 tackles during the 5 full-matchs (400 minutes played) versus a player who made 20 tackles in 200 minutes played ; have the same efficiency. Also some positions have two representative (wing, center, flanker).\n",
    "\n",
    "It will be a better way to measure the number of tackle per the number of minutes played. \n",
    "\n",
    "Tackles per min = Tackles made / Minutes played\n",
    "\n",
    "It will be the same for tries and kicks :\n",
    "\n",
    "Tries per min : Tries made / Minutes played\n",
    "\n",
    "Kicks per min : Kicks made / Minutes played\n",
    "\n",
    "#### Create a column : BMI.\n",
    "Hereafter, we will perform some analysis with the physiscal characteristics (height, weight, age).\n",
    "We can also use a a wellknow indicator (the body mass) index. Because we know that more we are taller, we have more chance to be weigher. \n",
    "BMI (body mass index) = weight (kg) / height² (m x m)\n"
   ]
  },
  {
   "cell_type": "code",
   "execution_count": 137,
   "metadata": {},
   "outputs": [
    {
     "data": {
      "text/html": [
       "<div>\n",
       "<style scoped>\n",
       "    .dataframe tbody tr th:only-of-type {\n",
       "        vertical-align: middle;\n",
       "    }\n",
       "\n",
       "    .dataframe tbody tr th {\n",
       "        vertical-align: top;\n",
       "    }\n",
       "\n",
       "    .dataframe thead th {\n",
       "        text-align: right;\n",
       "    }\n",
       "</style>\n",
       "<table border=\"1\" class=\"dataframe\">\n",
       "  <thead>\n",
       "    <tr style=\"text-align: right;\">\n",
       "      <th></th>\n",
       "      <th>Player</th>\n",
       "      <th>Position</th>\n",
       "      <th>Forward Or Back</th>\n",
       "      <th>Height In Metres</th>\n",
       "      <th>Weight In kg</th>\n",
       "      <th>Age In Year</th>\n",
       "      <th>Minutes Played</th>\n",
       "      <th>Tackles Made</th>\n",
       "      <th>Tries Made</th>\n",
       "      <th>Kicks from hand made</th>\n",
       "      <th>Country</th>\n",
       "      <th>Tackles per min</th>\n",
       "      <th>Tries per min</th>\n",
       "      <th>Kicks per min</th>\n",
       "      <th>BMI</th>\n",
       "    </tr>\n",
       "  </thead>\n",
       "  <tbody>\n",
       "    <tr>\n",
       "      <th>0</th>\n",
       "      <td>Dorian Aldegheri</td>\n",
       "      <td>Prop</td>\n",
       "      <td>Forward</td>\n",
       "      <td>1.80</td>\n",
       "      <td>109.769354</td>\n",
       "      <td>25</td>\n",
       "      <td>56</td>\n",
       "      <td>8.0</td>\n",
       "      <td>0.0</td>\n",
       "      <td>0.0</td>\n",
       "      <td>France</td>\n",
       "      <td>0.142857</td>\n",
       "      <td>0.000000</td>\n",
       "      <td>0.0</td>\n",
       "      <td>33.879430</td>\n",
       "    </tr>\n",
       "    <tr>\n",
       "      <th>1</th>\n",
       "      <td>Demba Bamba</td>\n",
       "      <td>Prop</td>\n",
       "      <td>Forward</td>\n",
       "      <td>1.85</td>\n",
       "      <td>118.841201</td>\n",
       "      <td>20</td>\n",
       "      <td>303</td>\n",
       "      <td>38.0</td>\n",
       "      <td>0.0</td>\n",
       "      <td>0.0</td>\n",
       "      <td>France</td>\n",
       "      <td>0.125413</td>\n",
       "      <td>0.000000</td>\n",
       "      <td>0.0</td>\n",
       "      <td>34.723506</td>\n",
       "    </tr>\n",
       "    <tr>\n",
       "      <th>2</th>\n",
       "      <td>Camille Chat</td>\n",
       "      <td>Hooker</td>\n",
       "      <td>Forward</td>\n",
       "      <td>1.83</td>\n",
       "      <td>98.883137</td>\n",
       "      <td>23</td>\n",
       "      <td>82</td>\n",
       "      <td>22.0</td>\n",
       "      <td>1.0</td>\n",
       "      <td>0.0</td>\n",
       "      <td>France</td>\n",
       "      <td>0.268293</td>\n",
       "      <td>0.012195</td>\n",
       "      <td>0.0</td>\n",
       "      <td>29.527050</td>\n",
       "    </tr>\n",
       "    <tr>\n",
       "      <th>3</th>\n",
       "      <td>Julien Marchand</td>\n",
       "      <td>Hooker</td>\n",
       "      <td>Forward</td>\n",
       "      <td>1.80</td>\n",
       "      <td>94.800805</td>\n",
       "      <td>23</td>\n",
       "      <td>23</td>\n",
       "      <td>2.0</td>\n",
       "      <td>0.0</td>\n",
       "      <td>0.0</td>\n",
       "      <td>France</td>\n",
       "      <td>0.086957</td>\n",
       "      <td>0.000000</td>\n",
       "      <td>0.0</td>\n",
       "      <td>29.259508</td>\n",
       "    </tr>\n",
       "    <tr>\n",
       "      <th>4</th>\n",
       "      <td>Jefferson Poirot</td>\n",
       "      <td>Prop</td>\n",
       "      <td>Forward</td>\n",
       "      <td>1.80</td>\n",
       "      <td>99.790321</td>\n",
       "      <td>26</td>\n",
       "      <td>220</td>\n",
       "      <td>29.0</td>\n",
       "      <td>0.0</td>\n",
       "      <td>0.0</td>\n",
       "      <td>France</td>\n",
       "      <td>0.131818</td>\n",
       "      <td>0.000000</td>\n",
       "      <td>0.0</td>\n",
       "      <td>30.799482</td>\n",
       "    </tr>\n",
       "  </tbody>\n",
       "</table>\n",
       "</div>"
      ],
      "text/plain": [
       "             Player Position Forward Or Back  Height In Metres  Weight In kg  \\\n",
       "0  Dorian Aldegheri     Prop         Forward              1.80    109.769354   \n",
       "1       Demba Bamba     Prop         Forward              1.85    118.841201   \n",
       "2      Camille Chat   Hooker         Forward              1.83     98.883137   \n",
       "3   Julien Marchand   Hooker         Forward              1.80     94.800805   \n",
       "4  Jefferson Poirot     Prop         Forward              1.80     99.790321   \n",
       "\n",
       "   Age In Year  Minutes Played  Tackles Made  Tries Made  \\\n",
       "0           25              56           8.0         0.0   \n",
       "1           20             303          38.0         0.0   \n",
       "2           23              82          22.0         1.0   \n",
       "3           23              23           2.0         0.0   \n",
       "4           26             220          29.0         0.0   \n",
       "\n",
       "   Kicks from hand made Country  Tackles per min  Tries per min  \\\n",
       "0                   0.0  France         0.142857       0.000000   \n",
       "1                   0.0  France         0.125413       0.000000   \n",
       "2                   0.0  France         0.268293       0.012195   \n",
       "3                   0.0  France         0.086957       0.000000   \n",
       "4                   0.0  France         0.131818       0.000000   \n",
       "\n",
       "   Kicks per min        BMI  \n",
       "0            0.0  33.879430  \n",
       "1            0.0  34.723506  \n",
       "2            0.0  29.527050  \n",
       "3            0.0  29.259508  \n",
       "4            0.0  30.799482  "
      ]
     },
     "execution_count": 137,
     "metadata": {},
     "output_type": "execute_result"
    }
   ],
   "source": [
    "#create columns\n",
    "df_clean['Tackles per min']=df_clean['Tackles Made']/df_clean['Minutes Played']\n",
    "\n",
    "df_clean['Tries per min']=df_clean['Tries Made']/df_clean['Minutes Played']\n",
    "\n",
    "df_clean['Kicks per min']=df_clean['Kicks from hand made']/df_clean['Minutes Played']\n",
    "\n",
    "df_clean['BMI'] = df_clean['Weight In kg']/(df_clean['Height In Metres']*df_clean['Height In Metres'])\n",
    "\n",
    "\n",
    "df_clean.head()"
   ]
  },
  {
   "cell_type": "markdown",
   "metadata": {},
   "source": [
    "# Visualisations\n",
    "\n",
    "***Please note that the main comments are detailled on the associated article. ***\n",
    "\n",
    "\n",
    "## On physical aspects :\n",
    "\n",
    "### \"Forward\" players are bigger than \"Back\" players ?"
   ]
  },
  {
   "cell_type": "code",
   "execution_count": 138,
   "metadata": {},
   "outputs": [
    {
     "data": {
      "image/png": "[encoded data removed]",
      "text/plain": [
       "<Figure size 720x360 with 1 Axes>"
      ]
     },
     "metadata": {},
     "output_type": "display_data"
    }
   ],
   "source": [
    "#get data\n",
    "mFW = np.mean(df_clean['Weight In kg'][df_clean['Forward Or Back'] == 'Forward'])\n",
    "mB = np.mean(df_clean['Weight In kg'][df_clean['Forward Or Back'] == 'Back'])\n",
    "mFW = round(mFW,1)\n",
    "mB = round(mB,1)\n",
    "\n",
    "# function to add value labels\n",
    "def addlabels(x,y):\n",
    "    for i in range(len(x)):\n",
    "        plt.text(i, y[i], y[i], ha = 'center')\n",
    "\n",
    "#plot        \n",
    "m_dict = {'Forward':mFW, 'Back':mB}\n",
    "groups = list(m_dict.keys())\n",
    "values = list(m_dict.values())\n",
    "fig = plt.figure(figsize = (10, 5))\n",
    "#  Bar plot\n",
    "plt.bar(groups, values, color=['blue', '#d46b29'],\n",
    "        width = 0.5)\n",
    "plt.xlabel(\"Group\", size=18)\n",
    "plt.ylabel(\"Weight In kg\", size=18)\n",
    "plt.title(\" Average Weight players by group \", fontsize = 22)\n",
    "addlabels(groups, values)\n",
    "plt.show()"
   ]
  },
  {
   "cell_type": "code",
   "execution_count": 139,
   "metadata": {},
   "outputs": [
    {
     "data": {
      "image/png": "[encoded data removed]",
      "text/plain": [
       "<Figure size 720x360 with 1 Axes>"
      ]
     },
     "metadata": {},
     "output_type": "display_data"
    }
   ],
   "source": [
    "#get data\n",
    "tFW = np.mean(df_clean['Height In Metres'][df_clean['Forward Or Back'] == 'Forward'])\n",
    "tB = np.mean(df_clean['Height In Metres'][df_clean['Forward Or Back'] == 'Back'])\n",
    "tFW = round(tFW,2)\n",
    "tB = round(tB,2)\n",
    "\n",
    "#Plot\n",
    "t_dict = {'Forward':tFW, 'Back':tB}\n",
    "groups = list(t_dict.keys())\n",
    "values = list(t_dict.values())\n",
    "fig = plt.figure(figsize = (10, 5))\n",
    "#  Bar plot\n",
    "plt.bar(groups, values, color=['blue', '#d46b29'],\n",
    "        width = 0.5)\n",
    "plt.xlabel(\"Group\", size=18)\n",
    "plt.ylabel(\"Height In Metres\", size=18)\n",
    "plt.title(\" Average Height players by group\" , fontsize = 22)\n",
    "addlabels(groups, values)\n",
    "plt.show()\n"
   ]
  },
  {
   "cell_type": "code",
   "execution_count": 140,
   "metadata": {},
   "outputs": [
    {
     "data": {
      "text/plain": [
       "Text(0.5, 1.0, 'Height and Weight players by group')"
      ]
     },
     "execution_count": 140,
     "metadata": {},
     "output_type": "execute_result"
    },
    {
     "data": {
      "image/png": "[encoded data removed]",
      "text/plain": [
       "<Figure size 918.6x720 with 1 Axes>"
      ]
     },
     "metadata": {},
     "output_type": "display_data"
    }
   ],
   "source": [
    "g = sns.lmplot(data = df_clean,x = 'Height In Metres', y = 'Weight In kg', hue = 'Forward Or Back', height = 10)\n",
    "#g.map(plt.scatter, 'Height In Metres', 'Weight In kg')\n",
    "g.add_legend()\n",
    "\n",
    "plt.title('Height and Weight players by group', fontsize = 22)"
   ]
  },
  {
   "cell_type": "markdown",
   "metadata": {},
   "source": [
    "\n",
    "\n",
    "### \"Props\" have the biggest BMI (ratio height/weight) on the field.\n",
    "\n",
    "We have already created the BMI column.\n",
    "\n",
    "Strating now and for the rest of the analysis, we will use the same positioning order on the field and in our visualisations :\n",
    "'Prop', 'Hooker', 'Lock', 'Back-row', 'Scrum-half', 'Fly-half', 'Centre', 'Wing', 'Fullback'. \n",
    "if it is not clear for you please read the \"Business pre-requisites\" section.\n"
   ]
  },
  {
   "cell_type": "code",
   "execution_count": 141,
   "metadata": {},
   "outputs": [
    {
     "data": {
      "text/plain": [
       "Text(0.5, 1.0, 'Body Mass Index for each position')"
      ]
     },
     "execution_count": 141,
     "metadata": {},
     "output_type": "execute_result"
    },
    {
     "data": {
      "image/png": "[encoded data removed]",
      "text/plain": [
       "<Figure size 864x720 with 1 Axes>"
      ]
     },
     "metadata": {},
     "output_type": "display_data"
    }
   ],
   "source": [
    "plt.figure(figsize=(12,10))\n",
    "sns.boxplot(data = df_clean, x = 'Position', y = 'BMI', order = ['Prop', 'Hooker', 'Lock', 'Back-row', 'Scrum-half', 'Fly-half', 'Centre', 'Wing', 'Fullback'] ) \n",
    "plt.xlabel(\"Position\", size=18)\n",
    "plt.ylabel(\"Body Mass Index\", size=18)\n",
    "plt.title('Body Mass Index for each position', fontsize = 22)"
   ]
  },
  {
   "cell_type": "markdown",
   "metadata": {},
   "source": [
    "### \"Locks\" are taller."
   ]
  },
  {
   "cell_type": "code",
   "execution_count": 142,
   "metadata": {},
   "outputs": [
    {
     "data": {
      "text/plain": [
       "Text(0.5, 1.0, 'Body Mass Index for each position')"
      ]
     },
     "execution_count": 142,
     "metadata": {},
     "output_type": "execute_result"
    },
    {
     "data": {
      "image/png": "[encoded data removed]",
      "text/plain": [
       "<Figure size 864x720 with 1 Axes>"
      ]
     },
     "metadata": {},
     "output_type": "display_data"
    }
   ],
   "source": [
    "plt.figure(figsize=(12,10))\n",
    "sns.boxplot(data = df_clean, x = 'Position', y = 'Height In Metres', order = ['Prop', 'Hooker', 'Lock', 'Back-row', 'Scrum-half', 'Fly-half', 'Centre', 'Wing', 'Fullback'] ) \n",
    "plt.xlabel(\"Position\", size=18)\n",
    "plt.ylabel(\"Body Mass Index\", size=18)\n",
    "plt.title('Body Mass Index for each position', fontsize = 22)"
   ]
  },
  {
   "cell_type": "markdown",
   "metadata": {},
   "source": [
    "### \"Forward\" players tackle more than \"Back\" players."
   ]
  },
  {
   "cell_type": "code",
   "execution_count": 143,
   "metadata": {},
   "outputs": [
    {
     "data": {
      "image/png": "[encoded data removed]",
      "text/plain": [
       "<Figure size 720x360 with 1 Axes>"
      ]
     },
     "metadata": {},
     "output_type": "display_data"
    }
   ],
   "source": [
    "#get data\n",
    "tFW = np.mean(df_clean['Tackles Made'][df_clean['Forward Or Back'] == 'Forward'])\n",
    "tB = np.mean(df_clean['Tackles Made'][df_clean['Forward Or Back'] == 'Back'])\n",
    "tFW = round(tFW,2)\n",
    "tB = round(tB,2)\n",
    "\n",
    "#Plot\n",
    "t_dict = {'Forward':tFW, 'Back':tB}\n",
    "groups = list(t_dict.keys())\n",
    "values = list(t_dict.values())\n",
    "fig = plt.figure(figsize = (10, 5))\n",
    "#  Bar plot\n",
    "plt.bar(groups, values, color=['blue', '#d46b29'],\n",
    "        width = 0.5)\n",
    "plt.xlabel(\"Group\", size=18)\n",
    "plt.ylabel(\"Tackles made during the competition\", size=18)\n",
    "plt.title(\" Average number of tackle per group\" , fontsize = 22)\n",
    "addlabels(groups, values)\n",
    "plt.show()"
   ]
  },
  {
   "cell_type": "code",
   "execution_count": 54,
   "metadata": {},
   "outputs": [
    {
     "data": {
      "image/png": "[encoded data removed]",
      "text/plain": [
       "<Figure size 720x360 with 1 Axes>"
      ]
     },
     "metadata": {},
     "output_type": "display_data"
    }
   ],
   "source": [
    "#get data\n",
    "tFW = np.mean(df_clean['Tackles per min'][df_clean['Forward Or Back'] == 'Forward'])\n",
    "tB = np.mean(df_clean['Tackles per min'][df_clean['Forward Or Back'] == 'Back'])\n",
    "tFW = round(tFW,2)\n",
    "tB = round(tB,2)\n",
    "\n",
    "#Plot\n",
    "t_dict = {'Forward':tFW, 'Back':tB}\n",
    "groups = list(t_dict.keys())\n",
    "values = list(t_dict.values())\n",
    "fig = plt.figure(figsize = (10, 5))\n",
    "#  Bar plot\n",
    "plt.bar(groups, values, color=['blue', '#d46b29'],\n",
    "        width = 0.5)\n",
    "plt.xlabel(\"Group\", size=18)\n",
    "plt.ylabel(\"Tackles per minutes\", size=18)\n",
    "plt.title(\" Average number of tackles per minutes by group\" , fontsize = 22)\n",
    "addlabels(groups, values)\n",
    "plt.show()"
   ]
  },
  {
   "cell_type": "markdown",
   "metadata": {},
   "source": [
    "### Back-rows are the best tacklers ?"
   ]
  },
  {
   "cell_type": "code",
   "execution_count": 56,
   "metadata": {},
   "outputs": [
    {
     "data": {
      "text/plain": [
       "Text(0.5, 1.0, 'Number of tackles per minutes by position')"
      ]
     },
     "execution_count": 56,
     "metadata": {},
     "output_type": "execute_result"
    },
    {
     "data": {
      "image/png": "[encoded data removed]",
      "text/plain": [
       "<Figure size 864x720 with 1 Axes>"
      ]
     },
     "metadata": {},
     "output_type": "display_data"
    }
   ],
   "source": [
    "plt.figure(figsize=(12,10))\n",
    "sns.boxplot(data = df_clean, x = 'Position', y = 'Tackles per min', order = ['Prop', 'Hooker', 'Lock', 'Back-row', 'Scrum-half', 'Fly-half', 'Centre', 'Wing', 'Fullback'] ) \n",
    "plt.xlabel(\"Position\", size=18)\n",
    "plt.ylabel(\"Tackles per minutes\", size=18)\n",
    "plt.title('Number of tackles per minutes by position', fontsize = 22)"
   ]
  },
  {
   "cell_type": "code",
   "execution_count": 125,
   "metadata": {},
   "outputs": [
    {
     "data": {
      "text/html": [
       "<div>\n",
       "<style scoped>\n",
       "    .dataframe tbody tr th:only-of-type {\n",
       "        vertical-align: middle;\n",
       "    }\n",
       "\n",
       "    .dataframe tbody tr th {\n",
       "        vertical-align: top;\n",
       "    }\n",
       "\n",
       "    .dataframe thead th {\n",
       "        text-align: right;\n",
       "    }\n",
       "</style>\n",
       "<table border=\"1\" class=\"dataframe\">\n",
       "  <thead>\n",
       "    <tr style=\"text-align: right;\">\n",
       "      <th></th>\n",
       "      <th>Player</th>\n",
       "      <th>Position</th>\n",
       "      <th>Forward Or Back</th>\n",
       "      <th>Height In Metres</th>\n",
       "      <th>Weight In kg</th>\n",
       "      <th>Age In Year</th>\n",
       "      <th>Minutes Played</th>\n",
       "      <th>Tackles Made</th>\n",
       "      <th>Tries Made</th>\n",
       "      <th>Kicks from hand made</th>\n",
       "      <th>Country</th>\n",
       "      <th>Tackles per min</th>\n",
       "      <th>Tries per min</th>\n",
       "      <th>Kicks per min</th>\n",
       "      <th>BMI</th>\n",
       "    </tr>\n",
       "  </thead>\n",
       "  <tbody>\n",
       "    <tr>\n",
       "      <th>90</th>\n",
       "      <td>Harry Williams</td>\n",
       "      <td>Prop</td>\n",
       "      <td>Forward</td>\n",
       "      <td>1.91</td>\n",
       "      <td>132.0</td>\n",
       "      <td>27</td>\n",
       "      <td>40</td>\n",
       "      <td>21.0</td>\n",
       "      <td>0.0</td>\n",
       "      <td>0.0</td>\n",
       "      <td>England</td>\n",
       "      <td>0.525</td>\n",
       "      <td>0.0</td>\n",
       "      <td>0.0</td>\n",
       "      <td>36.183219</td>\n",
       "    </tr>\n",
       "  </tbody>\n",
       "</table>\n",
       "</div>"
      ],
      "text/plain": [
       "            Player Position Forward Or Back  Height In Metres  Weight In kg  \\\n",
       "90  Harry Williams     Prop         Forward              1.91         132.0   \n",
       "\n",
       "    Age In Year  Minutes Played  Tackles Made  Tries Made  \\\n",
       "90           27              40          21.0         0.0   \n",
       "\n",
       "    Kicks from hand made   Country  Tackles per min  Tries per min  \\\n",
       "90                   0.0  England             0.525            0.0   \n",
       "\n",
       "    Kicks per min        BMI  \n",
       "90            0.0  36.183219  "
      ]
     },
     "execution_count": 125,
     "metadata": {},
     "output_type": "execute_result"
    }
   ],
   "source": [
    "#get the tackle beast\n",
    "df_clean[ df_clean['Tackles per min'] > 0.4] "
   ]
  },
  {
   "cell_type": "markdown",
   "metadata": {},
   "source": [
    "### \"Back\" players score more tries than \"Forward\" players"
   ]
  },
  {
   "cell_type": "code",
   "execution_count": 59,
   "metadata": {},
   "outputs": [
    {
     "data": {
      "image/png": "[encoded data removed]",
      "text/plain": [
       "<Figure size 720x360 with 1 Axes>"
      ]
     },
     "metadata": {},
     "output_type": "display_data"
    }
   ],
   "source": [
    "#get data\n",
    "tFW = np.mean(df_clean['Tries per min'][df_clean['Forward Or Back'] == 'Forward'])\n",
    "tB = np.mean(df_clean['Tries per min'][df_clean['Forward Or Back'] == 'Back'])\n",
    "tFW = round(tFW,4)\n",
    "tB = round(tB,4)\n",
    "\n",
    "#Plot\n",
    "t_dict = {'Forward':tFW, 'Back':tB}\n",
    "groups = list(t_dict.keys())\n",
    "values = list(t_dict.values())\n",
    "fig = plt.figure(figsize = (10, 5))\n",
    "#  Bar plot\n",
    "plt.bar(groups, values, color=['blue', '#d46b29'],\n",
    "        width = 0.5)\n",
    "plt.xlabel(\"Group\", size=18)\n",
    "plt.ylabel(\"Tries per minutes\", size=18)\n",
    "plt.title(\" Average number of tries per minutes by group\" , fontsize = 22)\n",
    "addlabels(groups, values)\n",
    "plt.show()"
   ]
  },
  {
   "cell_type": "code",
   "execution_count": 61,
   "metadata": {},
   "outputs": [
    {
     "data": {
      "image/png": "[encoded data removed]",
      "text/plain": [
       "<Figure size 720x360 with 1 Axes>"
      ]
     },
     "metadata": {},
     "output_type": "display_data"
    }
   ],
   "source": [
    "#get data\n",
    "tFW = np.mean(df_clean['Tries Made'][df_clean['Forward Or Back'] == 'Forward'])\n",
    "tB = np.mean(df_clean['Tries Made'][df_clean['Forward Or Back'] == 'Back'])\n",
    "tFW = round(tFW,4)\n",
    "tB = round(tB,4)\n",
    "\n",
    "#Plot\n",
    "t_dict = {'Forward':tFW, 'Back':tB}\n",
    "groups = list(t_dict.keys())\n",
    "values = list(t_dict.values())\n",
    "fig = plt.figure(figsize = (10, 5))\n",
    "#  Bar plot\n",
    "plt.bar(groups, values, color=['blue', '#d46b29'],\n",
    "        width = 0.5)\n",
    "plt.xlabel(\"Group\", size=18)\n",
    "plt.ylabel(\"Tries per minutes\", size=18)\n",
    "plt.title(\" Average number of tries per minutes by group\" , fontsize = 22)\n",
    "addlabels(groups, values)\n",
    "plt.show()"
   ]
  },
  {
   "cell_type": "code",
   "execution_count": 99,
   "metadata": {},
   "outputs": [
    {
     "data": {
      "text/plain": [
       "Text(0.5, 1.0, 'Tries per min by position')"
      ]
     },
     "execution_count": 99,
     "metadata": {},
     "output_type": "execute_result"
    },
    {
     "data": {
      "image/png": "[encoded data removed]",
      "text/plain": [
       "<Figure size 864x720 with 1 Axes>"
      ]
     },
     "metadata": {},
     "output_type": "display_data"
    }
   ],
   "source": [
    "plt.figure(figsize=(12,10))\n",
    "sns.boxplot(data = df_clean, x = 'Position', y = 'Tries per min', order = ['Prop', 'Hooker', 'Lock', 'Back-row', 'Scrum-half', 'Fly-half', 'Centre', 'Wing', 'Fullback'] ) \n",
    "plt.xlabel(\"Position\", size=18)\n",
    "plt.ylabel(\"Tries per min\", size=18)\n",
    "plt.title('Tries per min by position', fontsize = 22)"
   ]
  },
  {
   "cell_type": "markdown",
   "metadata": {},
   "source": [
    "Here, the boxplot are not sufficient to understand. We can see there is only 40 tries score during the tournament. On 122 players, we get to many player with a ratio of 0 and it is polluting the visualisation :"
   ]
  },
  {
   "cell_type": "code",
   "execution_count": 123,
   "metadata": {},
   "outputs": [
    {
     "data": {
      "text/plain": [
       "40"
      ]
     },
     "execution_count": 123,
     "metadata": {},
     "output_type": "execute_result"
    }
   ],
   "source": [
    "#get the number of player who scored\n",
    "df_clean[ df_clean['Tries Made'] != 0].count()['Player'] "
   ]
  },
  {
   "cell_type": "code",
   "execution_count": 115,
   "metadata": {},
   "outputs": [
    {
     "data": {
      "image/png": "[encoded data removed]",
      "text/plain": [
       "<Figure size 864x720 with 1 Axes>"
      ]
     },
     "metadata": {},
     "output_type": "display_data"
    }
   ],
   "source": [
    "plt.figure(figsize=(12,10))\n",
    "plt.xlabel(\"Position\", size=18)\n",
    "plt.ylabel(\"Tries per min\", size=18)\n",
    "plt.title('Average number of tries per player by Position', fontsize = 22)\n",
    "bx = sns.barplot(x=\"Position\", y=\"Tries Made\", data=df_clean, order = ['Prop', 'Hooker', 'Lock', 'Back-row', 'Scrum-half', 'Fly-half', 'Centre', 'Wing', 'Fullback'])"
   ]
  },
  {
   "cell_type": "markdown",
   "metadata": {},
   "source": [
    "### Back\" players use more their feet than \"Forward\" players\n"
   ]
  },
  {
   "cell_type": "code",
   "execution_count": 128,
   "metadata": {},
   "outputs": [
    {
     "data": {
      "image/png": "[encoded data removed]",
      "text/plain": [
       "<Figure size 720x360 with 1 Axes>"
      ]
     },
     "metadata": {},
     "output_type": "display_data"
    }
   ],
   "source": [
    "#get data\n",
    "tFW = np.mean(df_clean['Kicks per min'][df_clean['Forward Or Back'] == 'Forward'])\n",
    "tB = np.mean(df_clean['Kicks per min'][df_clean['Forward Or Back'] == 'Back'])\n",
    "tFW = round(tFW,4)\n",
    "tB = round(tB,4)\n",
    "\n",
    "#Plot\n",
    "t_dict = {'Forward':tFW, 'Back':tB}\n",
    "groups = list(t_dict.keys())\n",
    "values = list(t_dict.values())\n",
    "fig = plt.figure(figsize = (10, 5))\n",
    "#  Bar plot\n",
    "plt.bar(groups, values, color=['blue', '#d46b29'],\n",
    "        width = 0.5)\n",
    "plt.xlabel(\"Group\", size=18)\n",
    "plt.ylabel(\"Number of Kick per minute\", size=18)\n",
    "plt.title(\" Average number of Kick per minutes by group\" , fontsize = 22)\n",
    "addlabels(groups, values)\n",
    "plt.show()"
   ]
  },
  {
   "cell_type": "code",
   "execution_count": 129,
   "metadata": {},
   "outputs": [
    {
     "data": {
      "text/plain": [
       "172.0"
      ]
     },
     "execution_count": 129,
     "metadata": {},
     "output_type": "execute_result"
    }
   ],
   "source": [
    "516/3"
   ]
  },
  {
   "cell_type": "markdown",
   "metadata": {},
   "source": [
    "### Fly-half\" is the position where we kick more"
   ]
  },
  {
   "cell_type": "code",
   "execution_count": 136,
   "metadata": {},
   "outputs": [
    {
     "data": {
      "text/plain": [
       "Text(0.5, 1.0, 'Kicks per minutes by position - Back only')"
      ]
     },
     "execution_count": 136,
     "metadata": {},
     "output_type": "execute_result"
    },
    {
     "data": {
      "image/png": "[encoded data removed]",
      "text/plain": [
       "<Figure size 864x720 with 1 Axes>"
      ]
     },
     "metadata": {},
     "output_type": "display_data"
    }
   ],
   "source": [
    "plt.figure(figsize=(12,10))\n",
    "sns.boxplot(data = df_clean, x = 'Position', y = 'Kicks per min', order = ['Scrum-half', 'Fly-half', 'Centre', 'Wing', 'Fullback'] ) \n",
    "plt.xlabel(\"Position\", size=18)\n",
    "plt.ylabel(\"Kicks per minute\", size=18)\n",
    "plt.title('Kicks per minutes by position - Back only', fontsize = 22)"
   ]
  },
  {
   "cell_type": "code",
   "execution_count": 134,
   "metadata": {},
   "outputs": [
    {
     "data": {
      "image/png": "[encoded data removed]",
      "text/plain": [
       "<Figure size 864x720 with 1 Axes>"
      ]
     },
     "metadata": {},
     "output_type": "display_data"
    }
   ],
   "source": [
    "plt.figure(figsize=(12,10))\n",
    "plt.xlabel(\"Position\", size=18)\n",
    "plt.ylabel(\"Kicks per min\", size=18)\n",
    "plt.title('Average number of tries per player by Position', fontsize = 22)\n",
    "bx = sns.barplot(x=\"Position\", y=\"Kicks from hand made\", data=df_clean, order = ['Scrum-half', 'Fly-half', 'Centre', 'Wing', 'Fullback'])"
   ]
  },
  {
   "cell_type": "markdown",
   "metadata": {},
   "source": [
    "# Conlusions\n",
    "\n",
    "On 8 stereotypes, we have validated with our data analysis 6 of them. And without a lot of opposition. It seem that the rugby game despite of this recent evolution have still keep some of this specialties : The physical differences, the forward players who hurt their opponent, the wingers score !\n",
    "\n",
    "Even if Back-rows are not the best tacklers they are second and closed to the leader the Hooker.\n",
    "\n",
    "Our only surprised is coming from the kicking aspect where the Fly-half is not the leader anymore. Now the fly-half share this responsibility with the scrum-half."
   ]
  },
  {
   "cell_type": "markdown",
   "metadata": {},
   "source": [
    "# Resources\n",
    "\n",
    "https://www.kaggle.com/cianmcgovernleahy/six-nations-historical-data/version/1\n",
    "\n",
    "https://datascienceparichay.com/article/insert-image-in-a-jupyter-notebook/\n",
    "\n",
    "https://www.geeksforgeeks.org/convert-birth-date-to-age-in-pandas/\n",
    "\n",
    "https://blog.knoldus.com/how-to-find-correlation-value-of-categorical-variables/\n",
    "\n",
    "https://seaborn.pydata.org/generated/seaborn.barplot.html?highlight=bar#seaborn.barplot\n",
    "\n",
    "https://stackoverflow.com/questions/22635110/sorting-the-order-of-bars-in-pandas-matplotlib-bar-plots\n",
    "\n",
    "\n"
   ]
  },
  {
   "cell_type": "code",
   "execution_count": null,
   "metadata": {},
   "outputs": [],
   "source": []
  }
 ],
 "metadata": {
  "kernelspec": {
   "display_name": "Python 3",
   "language": "python",
   "name": "python3"
  },
  "language_info": {
   "codemirror_mode": {
    "name": "ipython",
    "version": 3
   },
   "file_extension": ".py",
   "mimetype": "text/x-python",
   "name": "python",
   "nbconvert_exporter": "python",
   "pygments_lexer": "ipython3",
   "version": "3.8.3"
  }
 },
 "nbformat": 4,
 "nbformat_minor": 4
}
